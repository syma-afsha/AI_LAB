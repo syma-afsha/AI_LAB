{
  "nbformat": 4,
  "nbformat_minor": 0,
  "metadata": {
    "colab": {
      "provenance": [],
      "gpuType": "T4",
      "authorship_tag": "ABX9TyO8t2RgBqdEDDwDIuWp4Yol",
      "include_colab_link": true
    },
    "kernelspec": {
      "name": "python3",
      "display_name": "Python 3"
    },
    "language_info": {
      "name": "python"
    },
    "accelerator": "GPU"
  },
  "cells": [
    {
      "cell_type": "markdown",
      "metadata": {
        "id": "view-in-github",
        "colab_type": "text"
      },
      "source": [
        "<a href=\"https://colab.research.google.com/github/syma-afsha/AI_LAB/blob/main/MirMohibullahSazid_DND.ipynb\" target=\"_parent\"><img src=\"https://colab.research.google.com/assets/colab-badge.svg\" alt=\"Open In Colab\"/></a>"
      ]
    },
    {
      "cell_type": "code",
      "execution_count": 1,
      "metadata": {
        "id": "s1SpS6nRAhtX"
      },
      "outputs": [],
      "source": [
        "import numpy as np\n"
      ]
    },
    {
      "cell_type": "code",
      "source": [
        "#Necessary imports\n",
        "import torch\n",
        "import torch.nn as nn\n",
        "import numpy as np"
      ],
      "metadata": {
        "id": "Psh7hB9TGGz9"
      },
      "execution_count": 2,
      "outputs": []
    },
    {
      "cell_type": "code",
      "source": [
        "device = torch.device(\"cuda\" if torch.cuda.is_available() else \"cpu\")\n",
        "device"
      ],
      "metadata": {
        "colab": {
          "base_uri": "https://localhost:8080/"
        },
        "id": "8UBb2FxcGIsp",
        "outputId": "80b6118f-fc84-47e4-d843-451c8427e1d0"
      },
      "execution_count": 3,
      "outputs": [
        {
          "output_type": "execute_result",
          "data": {
            "text/plain": [
              "device(type='cuda')"
            ]
          },
          "metadata": {},
          "execution_count": 3
        }
      ]
    },
    {
      "cell_type": "code",
      "source": [
        "from PIL import Image\n",
        "import requests\n",
        "from io import BytesIO\n",
        "import numpy as np\n",
        "import matplotlib.pyplot as plt"
      ],
      "metadata": {
        "id": "QwyfaEzQ9gg-"
      },
      "execution_count": 4,
      "outputs": []
    },
    {
      "cell_type": "code",
      "source": [
        "# Cell 0.3 -> INPUT (DO NOT EDIT THIS CELL!)\n",
        "input_tokens =  torch.randint(0, 5000, (4, 20))  # [B=4, T=20]\n",
        "print(input_tokens.shape)"
      ],
      "metadata": {
        "colab": {
          "base_uri": "https://localhost:8080/"
        },
        "id": "1u6XBQPY8v7-",
        "outputId": "48663857-40ff-4e50-f7fc-1e02bdb469d1"
      },
      "execution_count": 5,
      "outputs": [
        {
          "output_type": "stream",
          "name": "stdout",
          "text": [
            "torch.Size([4, 20])\n"
          ]
        }
      ]
    },
    {
      "cell_type": "code",
      "source": [
        "class MultiKernelCNN(nn.Module):\n",
        "    def __init__(self):\n",
        "        super().__init__()\n",
        "        self.embedding=nn.Embedding(num_embeddings=5000, embedding_dim=128)\n",
        "        self.dropout=nn.Dropout(0.1)\n",
        "        self.conv1=nn.Conv1d(in_channels=128, out_channels=32, kernel_size=3, padding=1)\n",
        "        self.relu=nn.ReLU()\n",
        "        self.pool1=nn.AdaptiveMaxPool1d(output_size=1) #outputzise\n",
        "        self.conv2=nn.Conv1d(in_channels=128, out_channels=32, kernel_size=5, padding=2)\n",
        "        self.batchnorm=nn.BatchNorm1d(num_features=32)\n",
        "        self.pool2=nn.MaxPool1d(kernel_size=15, stride=15)\n",
        "        self.conv3=nn.Conv1d(in_channels=128, out_channels=32, kernel_size=7, padding=2) #padding change\n",
        "        self.pool3=nn.MaxPool1d(kernel_size=10, stride=10)\n",
        "        self.dropout2=nn.Dropout(0.1)\n",
        "\n",
        "\n",
        "\n",
        "\n",
        "        # ADD YOUR CODE HERE\n",
        "\n",
        "    def forward(self, x):\n",
        "        # ADD YOUR CODE HERE\n",
        "        x=self.embedding(x)\n",
        "        x=self.dropout(x)\n",
        "        print(f\"After embedding: {x.shape}\")\n",
        "        #transpose\n",
        "        x=x.permute(0,2,1)\n",
        "        print(f\"After transpose: {x.shape}\")\n",
        "        x1=self.conv1(x)\n",
        "        x1=self.relu(x1)\n",
        "        print(f\"After conv1: {x1.shape}\")\n",
        "        x1=self.pool1(x1)\n",
        "        print(f\"After pool1: {x1.shape}\")\n",
        "        #squeeze(-1)\n",
        "        x1=x1.squeeze(-1)\n",
        "        print(f\"After squeeze: {x1.shape}\")\n",
        "\n",
        "        x2=self.conv2(x)\n",
        "        x2=self.batchnorm(x2)\n",
        "        print(f\"After conv2: {x2.shape}\")\n",
        "        x2=self.pool2(x2)\n",
        "        print(f\"After pool2: {x2.shape}\")\n",
        "        x2=x2.squeeze(-1)\n",
        "        print(f\"After squeeze: {x2.shape}\")\n",
        "        x3=self.conv3(x)\n",
        "        x3=self.relu(x3)\n",
        "        print(f\"After conv3: {x3.shape}\")\n",
        "        x3=self.pool3(x3)\n",
        "        print(f\"After pool3: {x3.shape}\")\n",
        "        x3=x3.squeeze(-1)\n",
        "        print(f\"After squeeze: {x3.shape}\")\n",
        "        x=torch.cat([x1,x2,x3],dim=-1)\n",
        "        print(f\"After concat: {x.shape}\")\n",
        "        x=self.dropout2(x)\n",
        "        print(f\"After dropout: {x.shape}\")\n",
        "\n",
        "\n",
        "\n",
        "        return x\n",
        "multi_kernel=MultiKernelCNN()\n",
        "multi_kernel_cnn=multi_kernel(input_tokens)\n"
      ],
      "metadata": {
        "colab": {
          "base_uri": "https://localhost:8080/"
        },
        "id": "htoz1I9-8zz_",
        "outputId": "1d681479-c51a-4613-eb5f-c9057b3d414c"
      },
      "execution_count": 6,
      "outputs": [
        {
          "output_type": "stream",
          "name": "stdout",
          "text": [
            "After embedding: torch.Size([4, 20, 128])\n",
            "After transpose: torch.Size([4, 128, 20])\n",
            "After conv1: torch.Size([4, 32, 20])\n",
            "After pool1: torch.Size([4, 32, 1])\n",
            "After squeeze: torch.Size([4, 32])\n",
            "After conv2: torch.Size([4, 32, 20])\n",
            "After pool2: torch.Size([4, 32, 1])\n",
            "After squeeze: torch.Size([4, 32])\n",
            "After conv3: torch.Size([4, 32, 18])\n",
            "After pool3: torch.Size([4, 32, 1])\n",
            "After squeeze: torch.Size([4, 32])\n",
            "After concat: torch.Size([4, 96])\n",
            "After dropout: torch.Size([4, 96])\n"
          ]
        }
      ]
    }
  ]
}