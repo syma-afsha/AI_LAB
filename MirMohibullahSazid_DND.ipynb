{
  "nbformat": 4,
  "nbformat_minor": 0,
  "metadata": {
    "colab": {
      "provenance": [],
      "gpuType": "T4",
      "authorship_tag": "ABX9TyPCSFiV0vZuLiSnFlyiBuZu",
      "include_colab_link": true
    },
    "kernelspec": {
      "name": "python3",
      "display_name": "Python 3"
    },
    "language_info": {
      "name": "python"
    },
    "accelerator": "GPU"
  },
  "cells": [
    {
      "cell_type": "markdown",
      "metadata": {
        "id": "view-in-github",
        "colab_type": "text"
      },
      "source": [
        "<a href=\"https://colab.research.google.com/github/syma-afsha/AI_LAB/blob/main/MirMohibullahSazid_DND.ipynb\" target=\"_parent\"><img src=\"https://colab.research.google.com/assets/colab-badge.svg\" alt=\"Open In Colab\"/></a>"
      ]
    },
    {
      "cell_type": "code",
      "execution_count": 1,
      "metadata": {
        "id": "s1SpS6nRAhtX"
      },
      "outputs": [],
      "source": [
        "import numpy as np\n"
      ]
    },
    {
      "cell_type": "code",
      "source": [
        "#Necessary imports\n",
        "import torch\n",
        "import torch.nn as nn\n",
        "import numpy as np"
      ],
      "metadata": {
        "id": "Psh7hB9TGGz9"
      },
      "execution_count": 2,
      "outputs": []
    },
    {
      "cell_type": "code",
      "source": [
        "device = torch.device(\"cuda\" if torch.cuda.is_available() else \"cpu\")\n",
        "device"
      ],
      "metadata": {
        "colab": {
          "base_uri": "https://localhost:8080/"
        },
        "id": "8UBb2FxcGIsp",
        "outputId": "80b6118f-fc84-47e4-d843-451c8427e1d0"
      },
      "execution_count": 3,
      "outputs": [
        {
          "output_type": "execute_result",
          "data": {
            "text/plain": [
              "device(type='cuda')"
            ]
          },
          "metadata": {},
          "execution_count": 3
        }
      ]
    },
    {
      "cell_type": "code",
      "source": [
        "from PIL import Image\n",
        "import requests\n",
        "from io import BytesIO\n",
        "import numpy as np\n",
        "import matplotlib.pyplot as plt"
      ],
      "metadata": {
        "id": "QwyfaEzQ9gg-"
      },
      "execution_count": 4,
      "outputs": []
    },
    {
      "cell_type": "code",
      "source": [
        "# Cell 0.3 -> INPUT (DO NOT EDIT THIS CELL!)\n",
        "input_tokens =  torch.randint(0, 5000, (4, 20))  # [B=4, T=20]\n",
        "print(input_tokens.shape)"
      ],
      "metadata": {
        "colab": {
          "base_uri": "https://localhost:8080/"
        },
        "id": "1u6XBQPY8v7-",
        "outputId": "48663857-40ff-4e50-f7fc-1e02bdb469d1"
      },
      "execution_count": 5,
      "outputs": [
        {
          "output_type": "stream",
          "name": "stdout",
          "text": [
            "torch.Size([4, 20])\n"
          ]
        }
      ]
    },
    {
      "cell_type": "code",
      "source": [
        "class MultiKernelCNN(nn.Module):\n",
        "    def __init__(self):\n",
        "        super().__init__()\n",
        "        self.embedding=nn.Embedding(num_embeddings=5000, embedding_dim=128)\n",
        "        self.dropout=nn.Dropout(0.1)\n",
        "        self.conv1=nn.Conv1d(in_channels=128, out_channels=32, kernel_size=3, padding=1)\n",
        "        self.relu=nn.ReLU()\n",
        "        self.pool1=nn.AdaptiveMaxPool1d(output_size=1) #outputzise\n",
        "        self.conv2=nn.Conv1d(in_channels=128, out_channels=32, kernel_size=5, padding=2)\n",
        "        self.batchnorm=nn.BatchNorm1d(num_features=32)\n",
        "        self.pool2=nn.MaxPool1d(kernel_size=15, stride=15)\n",
        "        self.conv3=nn.Conv1d(in_channels=128, out_channels=32, kernel_size=7, padding=2) #padding change\n",
        "        self.pool3=nn.MaxPool1d(kernel_size=10, stride=10)\n",
        "        self.dropout2=nn.Dropout(0.1)\n",
        "\n",
        "\n",
        "\n",
        "\n",
        "        # ADD YOUR CODE HERE\n",
        "\n",
        "    def forward(self, x):\n",
        "        # ADD YOUR CODE HERE\n",
        "        x=self.embedding(x)\n",
        "        x=self.dropout(x)\n",
        "        print(f\"After embedding: {x.shape}\")\n",
        "        #transpose\n",
        "        x=x.permute(0,2,1)\n",
        "        print(f\"After transpose: {x.shape}\")\n",
        "        x1=self.conv1(x)\n",
        "        x1=self.relu(x1)\n",
        "        print(f\"After conv1: {x1.shape}\")\n",
        "        x1=self.pool1(x1)\n",
        "        print(f\"After pool1: {x1.shape}\")\n",
        "        #squeeze(-1)\n",
        "        x1=x1.squeeze(-1)\n",
        "        print(f\"After squeeze: {x1.shape}\")\n",
        "\n",
        "        x2=self.conv2(x)\n",
        "        x2=self.batchnorm(x2)\n",
        "        print(f\"After conv2: {x2.shape}\")\n",
        "        x2=self.pool2(x2)\n",
        "        print(f\"After pool2: {x2.shape}\")\n",
        "        x2=x2.squeeze(-1)\n",
        "        print(f\"After squeeze: {x2.shape}\")\n",
        "        x3=self.conv3(x)\n",
        "        x3=self.relu(x3)\n",
        "        print(f\"After conv3: {x3.shape}\")\n",
        "        x3=self.pool3(x3)\n",
        "        print(f\"After pool3: {x3.shape}\")\n",
        "        x3=x3.squeeze(-1)\n",
        "        print(f\"After squeeze: {x3.shape}\")\n",
        "        x=torch.cat([x1,x2,x3],dim=1)\n",
        "        print(f\"After concat: {x.shape}\")\n",
        "        x=self.dropout2(x)\n",
        "        print(f\"After dropout: {x.shape}\")\n",
        "\n",
        "\n",
        "\n",
        "        return x\n",
        "multi_kernel=MultiKernelCNN()\n",
        "multi_kernel_cnn=multi_kernel(input_tokens)\n"
      ],
      "metadata": {
        "colab": {
          "base_uri": "https://localhost:8080/"
        },
        "id": "htoz1I9-8zz_",
        "outputId": "f2b97c1f-5fa7-4553-9815-1035000c42ec"
      },
      "execution_count": 7,
      "outputs": [
        {
          "output_type": "stream",
          "name": "stdout",
          "text": [
            "After embedding: torch.Size([4, 20, 128])\n",
            "After transpose: torch.Size([4, 128, 20])\n",
            "After conv1: torch.Size([4, 32, 20])\n",
            "After pool1: torch.Size([4, 32, 1])\n",
            "After squeeze: torch.Size([4, 32])\n",
            "After conv2: torch.Size([4, 32, 20])\n",
            "After pool2: torch.Size([4, 32, 1])\n",
            "After squeeze: torch.Size([4, 32])\n",
            "After conv3: torch.Size([4, 32, 18])\n",
            "After pool3: torch.Size([4, 32, 1])\n",
            "After squeeze: torch.Size([4, 32])\n",
            "After concat: torch.Size([4, 96])\n",
            "After dropout: torch.Size([4, 96])\n"
          ]
        }
      ]
    },
    {
      "cell_type": "code",
      "source": [
        "class BiLSTMEncoder(nn.Module):\n",
        "    def __init__(self):\n",
        "        super().__init__()\n",
        "        # ADD YOUR CODE HERE\n",
        "        self.embedding=nn.Embedding(num_embeddings=5000, embedding_dim=128)\n",
        "        self.dropout=nn.Dropout(0.1)\n",
        "        self.bilstm=nn.LSTM(input_size=128, hidden_size=256, batch_first=True, bidirectional=True)\n",
        "\n",
        "\n",
        "    def forward(self, x):\n",
        "        # ADD YOUR CODE HERE\n",
        "        x=self.embedding(x)\n",
        "        x=self.dropout(x)\n",
        "        print(f\"After embedding: {x.shape}\")\n",
        "        _, (hidden,_)=self.bilstm(x)\n",
        "        print(f\"After bilstm: {x.shape}\")\n",
        "        hidden_forward=hidden[-2, :, :]\n",
        "        hidden_backward=hidden[-1, :, :]\n",
        "        hidden=torch.cat([hidden_forward, hidden_backward], dim=1)\n",
        "        print(f\"After concat: {hidden.shape}\")\n",
        "\n",
        "\n",
        "        return hidden\n",
        "bilstm_encoder=BiLSTMEncoder()\n",
        "bilstm_encoder_output=bilstm_encoder(input_tokens)"
      ],
      "metadata": {
        "colab": {
          "base_uri": "https://localhost:8080/"
        },
        "id": "FCirexXAAXeq",
        "outputId": "508d58bd-8ce7-4e6b-ad45-df6e1fc160e1"
      },
      "execution_count": 8,
      "outputs": [
        {
          "output_type": "stream",
          "name": "stdout",
          "text": [
            "After embedding: torch.Size([4, 20, 128])\n",
            "After bilstm: torch.Size([4, 20, 128])\n",
            "After concat: torch.Size([4, 512])\n"
          ]
        }
      ]
    },
    {
      "cell_type": "code",
      "source": [
        "\n",
        "\n",
        "class Sequential(nn.Module):\n",
        "    def __init__(self):\n",
        "        super().__init__()\n",
        "        self.multi_kernel=MultiKernelCNN()\n",
        "        self.bilstm_encoder=BiLSTMEncoder()\n",
        "        self.linear=nn.Linear(in_features=608, out_features=256)\n",
        "        self.relu=nn.ReLU()\n",
        "        self.dropout2=nn.Dropout(0.1)\n",
        "\n",
        "\n",
        "\n",
        "\n",
        "    def forward(self, x):\n",
        "        # ADD YOUR CODE HERE\n",
        "        x1=self.multi_kernel(x)\n",
        "        x2=self.bilstm_encoder(x)\n",
        "        x=torch.cat([x1,x2], dim=1)\n",
        "        print(f\"Before Sequential concat: {x.shape}\")\n",
        "        x=self.linear(x)\n",
        "        print(f\"After Sequential concat: {x.shape}\")\n",
        "        x=self.relu(x)\n",
        "        x=self.dropout2(x)\n",
        "        print(f\"After dropout: {x.shape}\")\n",
        "\n",
        "        return x\n",
        "seq=Sequential()\n",
        "seq_output=seq(input_tokens)"
      ],
      "metadata": {
        "colab": {
          "base_uri": "https://localhost:8080/"
        },
        "id": "ZBxKAQ70AY42",
        "outputId": "2eff7a18-8425-48a6-d670-14ca09624a92"
      },
      "execution_count": 9,
      "outputs": [
        {
          "output_type": "stream",
          "name": "stdout",
          "text": [
            "After embedding: torch.Size([4, 20, 128])\n",
            "After transpose: torch.Size([4, 128, 20])\n",
            "After conv1: torch.Size([4, 32, 20])\n",
            "After pool1: torch.Size([4, 32, 1])\n",
            "After squeeze: torch.Size([4, 32])\n",
            "After conv2: torch.Size([4, 32, 20])\n",
            "After pool2: torch.Size([4, 32, 1])\n",
            "After squeeze: torch.Size([4, 32])\n",
            "After conv3: torch.Size([4, 32, 18])\n",
            "After pool3: torch.Size([4, 32, 1])\n",
            "After squeeze: torch.Size([4, 32])\n",
            "After concat: torch.Size([4, 96])\n",
            "After dropout: torch.Size([4, 96])\n",
            "After embedding: torch.Size([4, 20, 128])\n",
            "After bilstm: torch.Size([4, 20, 128])\n",
            "After concat: torch.Size([4, 512])\n",
            "Before Sequential concat: torch.Size([4, 608])\n",
            "After Sequential concat: torch.Size([4, 256])\n",
            "After dropout: torch.Size([4, 256])\n"
          ]
        }
      ]
    },
    {
      "cell_type": "code",
      "source": [
        "class TextClassifier(nn.Module):\n",
        "    def __init__(self):\n",
        "        super().__init__()\n",
        "        # ADD YOUR CODE HERE\n",
        "        self.sequential=Sequential()\n",
        "        self.linear=nn.Linear(in_features=256, out_features=4)\n",
        "\n",
        "\n",
        "    def forward(self, x):\n",
        "        # ADD YOUR CODE HERE\n",
        "        x=self.sequential(x)\n",
        "        x=self.linear(x)\n",
        "        print(f\"Final Output: {x.shape}\")\n",
        "\n",
        "        return x\n",
        "text_classifier=TextClassifier()\n",
        "text_classifier_output=text_classifier(input_tokens)"
      ],
      "metadata": {
        "colab": {
          "base_uri": "https://localhost:8080/"
        },
        "id": "8TqNuYSMAd86",
        "outputId": "eba61906-3d0e-4beb-ef2f-414389d7d0bd"
      },
      "execution_count": 10,
      "outputs": [
        {
          "output_type": "stream",
          "name": "stdout",
          "text": [
            "After embedding: torch.Size([4, 20, 128])\n",
            "After transpose: torch.Size([4, 128, 20])\n",
            "After conv1: torch.Size([4, 32, 20])\n",
            "After pool1: torch.Size([4, 32, 1])\n",
            "After squeeze: torch.Size([4, 32])\n",
            "After conv2: torch.Size([4, 32, 20])\n",
            "After pool2: torch.Size([4, 32, 1])\n",
            "After squeeze: torch.Size([4, 32])\n",
            "After conv3: torch.Size([4, 32, 18])\n",
            "After pool3: torch.Size([4, 32, 1])\n",
            "After squeeze: torch.Size([4, 32])\n",
            "After concat: torch.Size([4, 96])\n",
            "After dropout: torch.Size([4, 96])\n",
            "After embedding: torch.Size([4, 20, 128])\n",
            "After bilstm: torch.Size([4, 20, 128])\n",
            "After concat: torch.Size([4, 512])\n",
            "Before Sequential concat: torch.Size([4, 608])\n",
            "After Sequential concat: torch.Size([4, 256])\n",
            "After dropout: torch.Size([4, 256])\n",
            "Final Output: torch.Size([4, 4])\n"
          ]
        }
      ]
    },
    {
      "cell_type": "code",
      "source": [
        "#DO NOT MODIFY THIS CELL\n",
        "\n",
        "print(\"ComplexTextClassifier:\")\n",
        "complex_text_classifier = TextClassifier()\n",
        "text_embedding = complex_text_classifier(input_tokens)\n",
        "\n",
        "try:\n",
        "    assert text_embedding.shape == (4, 4), \"Classification output shape is incorrect.\"\n",
        "    print(\"\\n🎉 Congratulations! Your implementation is correct. You passed the minimum requirement! 🎉\")\n",
        "except AssertionError as e:\n",
        "    print(f\"\\n❌ Error: {e}\")"
      ],
      "metadata": {
        "colab": {
          "base_uri": "https://localhost:8080/"
        },
        "id": "bsfDXwviAgiT",
        "outputId": "25913208-144a-42d4-c359-584f0903e22a"
      },
      "execution_count": 11,
      "outputs": [
        {
          "output_type": "stream",
          "name": "stdout",
          "text": [
            "ComplexTextClassifier:\n",
            "After embedding: torch.Size([4, 20, 128])\n",
            "After transpose: torch.Size([4, 128, 20])\n",
            "After conv1: torch.Size([4, 32, 20])\n",
            "After pool1: torch.Size([4, 32, 1])\n",
            "After squeeze: torch.Size([4, 32])\n",
            "After conv2: torch.Size([4, 32, 20])\n",
            "After pool2: torch.Size([4, 32, 1])\n",
            "After squeeze: torch.Size([4, 32])\n",
            "After conv3: torch.Size([4, 32, 18])\n",
            "After pool3: torch.Size([4, 32, 1])\n",
            "After squeeze: torch.Size([4, 32])\n",
            "After concat: torch.Size([4, 96])\n",
            "After dropout: torch.Size([4, 96])\n",
            "After embedding: torch.Size([4, 20, 128])\n",
            "After bilstm: torch.Size([4, 20, 128])\n",
            "After concat: torch.Size([4, 512])\n",
            "Before Sequential concat: torch.Size([4, 608])\n",
            "After Sequential concat: torch.Size([4, 256])\n",
            "After dropout: torch.Size([4, 256])\n",
            "Final Output: torch.Size([4, 4])\n",
            "\n",
            "🎉 Congratulations! Your implementation is correct. You passed the minimum requirement! 🎉\n"
          ]
        }
      ]
    }
  ]
}