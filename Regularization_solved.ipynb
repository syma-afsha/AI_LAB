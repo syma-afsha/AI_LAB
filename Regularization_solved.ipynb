{
  "cells": [
    {
      "cell_type": "markdown",
      "metadata": {
        "id": "view-in-github",
        "colab_type": "text"
      },
      "source": [
        "<a href=\"https://colab.research.google.com/github/syma-afsha/AI_LAB/blob/main/Regularization_solved.ipynb\" target=\"_parent\"><img src=\"https://colab.research.google.com/assets/colab-badge.svg\" alt=\"Open In Colab\"/></a>"
      ]
    },
    {
      "cell_type": "markdown",
      "metadata": {
        "id": "UA6b6cj3i4w4"
      },
      "source": [
        "<img src=\"https://github.com/Fortuz/edu_Adaptive/blob/main/practices/assets/logo.png?raw=1\" width=\"800\">"
      ]
    },
    {
      "cell_type": "markdown",
      "metadata": {
        "id": "J0ZcNMrTi4w6"
      },
      "source": [
        "Made by **Balázs Nagy** and **Márk Domokos**\n",
        "\n",
        "[<img src=\"https://github.com/Fortuz/edu_Adaptive/blob/main/practices/assets/open_button.png?raw=1\">](https://colab.research.google.com/github/Fortuz/edu_Adaptive/blob/main/practices/L08%20-%20Regularization_solved.ipynb)\n",
        "\n",
        "# Labor 08 - Regularisation of Linear Regression and Bias - Variance\n",
        "\n",
        "### Water flow\n",
        "\n",
        "In the first part of the exercise, a linear regression is implemented to predict the amount of water spilled from a tank based on how much water is in the tank. In the second half of the exercise, we observe the debugging of the learning algorithms and the bias and variance type errors."
      ]
    },
    {
      "cell_type": "markdown",
      "metadata": {
        "id": "A95kNjI4i4w7"
      },
      "source": [
        "### 1: Import, load and visualise data"
      ]
    },
    {
      "cell_type": "code",
      "source": [
        "!pip install tensorflow\n",
        "!pip install keras"
      ],
      "metadata": {
        "colab": {
          "base_uri": "https://localhost:8080/"
        },
        "id": "FXqgRLVdjR-o",
        "outputId": "057bd725-50eb-4527-8cff-bc220edab25d"
      },
      "execution_count": 7,
      "outputs": [
        {
          "output_type": "stream",
          "name": "stdout",
          "text": [
            "Requirement already satisfied: tensorflow in /usr/local/lib/python3.10/dist-packages (2.17.1)\n",
            "Requirement already satisfied: absl-py>=1.0.0 in /usr/local/lib/python3.10/dist-packages (from tensorflow) (1.4.0)\n",
            "Requirement already satisfied: astunparse>=1.6.0 in /usr/local/lib/python3.10/dist-packages (from tensorflow) (1.6.3)\n",
            "Requirement already satisfied: flatbuffers>=24.3.25 in /usr/local/lib/python3.10/dist-packages (from tensorflow) (24.3.25)\n",
            "Requirement already satisfied: gast!=0.5.0,!=0.5.1,!=0.5.2,>=0.2.1 in /usr/local/lib/python3.10/dist-packages (from tensorflow) (0.6.0)\n",
            "Requirement already satisfied: google-pasta>=0.1.1 in /usr/local/lib/python3.10/dist-packages (from tensorflow) (0.2.0)\n",
            "Requirement already satisfied: h5py>=3.10.0 in /usr/local/lib/python3.10/dist-packages (from tensorflow) (3.12.1)\n",
            "Requirement already satisfied: libclang>=13.0.0 in /usr/local/lib/python3.10/dist-packages (from tensorflow) (18.1.1)\n",
            "Requirement already satisfied: ml-dtypes<0.5.0,>=0.3.1 in /usr/local/lib/python3.10/dist-packages (from tensorflow) (0.4.1)\n",
            "Requirement already satisfied: opt-einsum>=2.3.2 in /usr/local/lib/python3.10/dist-packages (from tensorflow) (3.4.0)\n",
            "Requirement already satisfied: packaging in /usr/local/lib/python3.10/dist-packages (from tensorflow) (24.2)\n",
            "Requirement already satisfied: protobuf!=4.21.0,!=4.21.1,!=4.21.2,!=4.21.3,!=4.21.4,!=4.21.5,<5.0.0dev,>=3.20.3 in /usr/local/lib/python3.10/dist-packages (from tensorflow) (4.25.5)\n",
            "Requirement already satisfied: requests<3,>=2.21.0 in /usr/local/lib/python3.10/dist-packages (from tensorflow) (2.32.3)\n",
            "Requirement already satisfied: setuptools in /usr/local/lib/python3.10/dist-packages (from tensorflow) (75.1.0)\n",
            "Requirement already satisfied: six>=1.12.0 in /usr/local/lib/python3.10/dist-packages (from tensorflow) (1.17.0)\n",
            "Requirement already satisfied: termcolor>=1.1.0 in /usr/local/lib/python3.10/dist-packages (from tensorflow) (2.5.0)\n",
            "Requirement already satisfied: typing-extensions>=3.6.6 in /usr/local/lib/python3.10/dist-packages (from tensorflow) (4.12.2)\n",
            "Requirement already satisfied: wrapt>=1.11.0 in /usr/local/lib/python3.10/dist-packages (from tensorflow) (1.17.0)\n",
            "Requirement already satisfied: grpcio<2.0,>=1.24.3 in /usr/local/lib/python3.10/dist-packages (from tensorflow) (1.68.1)\n",
            "Requirement already satisfied: tensorboard<2.18,>=2.17 in /usr/local/lib/python3.10/dist-packages (from tensorflow) (2.17.1)\n",
            "Requirement already satisfied: keras>=3.2.0 in /usr/local/lib/python3.10/dist-packages (from tensorflow) (3.5.0)\n",
            "Requirement already satisfied: tensorflow-io-gcs-filesystem>=0.23.1 in /usr/local/lib/python3.10/dist-packages (from tensorflow) (0.37.1)\n",
            "Requirement already satisfied: numpy<2.0.0,>=1.23.5 in /usr/local/lib/python3.10/dist-packages (from tensorflow) (1.26.4)\n",
            "Requirement already satisfied: wheel<1.0,>=0.23.0 in /usr/local/lib/python3.10/dist-packages (from astunparse>=1.6.0->tensorflow) (0.45.1)\n",
            "Requirement already satisfied: rich in /usr/local/lib/python3.10/dist-packages (from keras>=3.2.0->tensorflow) (13.9.4)\n",
            "Requirement already satisfied: namex in /usr/local/lib/python3.10/dist-packages (from keras>=3.2.0->tensorflow) (0.0.8)\n",
            "Requirement already satisfied: optree in /usr/local/lib/python3.10/dist-packages (from keras>=3.2.0->tensorflow) (0.13.1)\n",
            "Requirement already satisfied: charset-normalizer<4,>=2 in /usr/local/lib/python3.10/dist-packages (from requests<3,>=2.21.0->tensorflow) (3.4.0)\n",
            "Requirement already satisfied: idna<4,>=2.5 in /usr/local/lib/python3.10/dist-packages (from requests<3,>=2.21.0->tensorflow) (3.10)\n",
            "Requirement already satisfied: urllib3<3,>=1.21.1 in /usr/local/lib/python3.10/dist-packages (from requests<3,>=2.21.0->tensorflow) (2.2.3)\n",
            "Requirement already satisfied: certifi>=2017.4.17 in /usr/local/lib/python3.10/dist-packages (from requests<3,>=2.21.0->tensorflow) (2024.12.14)\n",
            "Requirement already satisfied: markdown>=2.6.8 in /usr/local/lib/python3.10/dist-packages (from tensorboard<2.18,>=2.17->tensorflow) (3.7)\n",
            "Requirement already satisfied: tensorboard-data-server<0.8.0,>=0.7.0 in /usr/local/lib/python3.10/dist-packages (from tensorboard<2.18,>=2.17->tensorflow) (0.7.2)\n",
            "Requirement already satisfied: werkzeug>=1.0.1 in /usr/local/lib/python3.10/dist-packages (from tensorboard<2.18,>=2.17->tensorflow) (3.1.3)\n",
            "Requirement already satisfied: MarkupSafe>=2.1.1 in /usr/local/lib/python3.10/dist-packages (from werkzeug>=1.0.1->tensorboard<2.18,>=2.17->tensorflow) (3.0.2)\n",
            "Requirement already satisfied: markdown-it-py>=2.2.0 in /usr/local/lib/python3.10/dist-packages (from rich->keras>=3.2.0->tensorflow) (3.0.0)\n",
            "Requirement already satisfied: pygments<3.0.0,>=2.13.0 in /usr/local/lib/python3.10/dist-packages (from rich->keras>=3.2.0->tensorflow) (2.18.0)\n",
            "Requirement already satisfied: mdurl~=0.1 in /usr/local/lib/python3.10/dist-packages (from markdown-it-py>=2.2.0->rich->keras>=3.2.0->tensorflow) (0.1.2)\n",
            "Requirement already satisfied: keras in /usr/local/lib/python3.10/dist-packages (3.5.0)\n",
            "Requirement already satisfied: absl-py in /usr/local/lib/python3.10/dist-packages (from keras) (1.4.0)\n",
            "Requirement already satisfied: numpy in /usr/local/lib/python3.10/dist-packages (from keras) (1.26.4)\n",
            "Requirement already satisfied: rich in /usr/local/lib/python3.10/dist-packages (from keras) (13.9.4)\n",
            "Requirement already satisfied: namex in /usr/local/lib/python3.10/dist-packages (from keras) (0.0.8)\n",
            "Requirement already satisfied: h5py in /usr/local/lib/python3.10/dist-packages (from keras) (3.12.1)\n",
            "Requirement already satisfied: optree in /usr/local/lib/python3.10/dist-packages (from keras) (0.13.1)\n",
            "Requirement already satisfied: ml-dtypes in /usr/local/lib/python3.10/dist-packages (from keras) (0.4.1)\n",
            "Requirement already satisfied: packaging in /usr/local/lib/python3.10/dist-packages (from keras) (24.2)\n",
            "Requirement already satisfied: typing-extensions>=4.5.0 in /usr/local/lib/python3.10/dist-packages (from optree->keras) (4.12.2)\n",
            "Requirement already satisfied: markdown-it-py>=2.2.0 in /usr/local/lib/python3.10/dist-packages (from rich->keras) (3.0.0)\n",
            "Requirement already satisfied: pygments<3.0.0,>=2.13.0 in /usr/local/lib/python3.10/dist-packages (from rich->keras) (2.18.0)\n",
            "Requirement already satisfied: mdurl~=0.1 in /usr/local/lib/python3.10/dist-packages (from markdown-it-py>=2.2.0->rich->keras) (0.1.2)\n"
          ]
        }
      ]
    },
    {
      "cell_type": "code",
      "execution_count": 8,
      "metadata": {
        "id": "TnwJclNbi4w7"
      },
      "outputs": [],
      "source": [
        "import numpy as np\n",
        "import matplotlib.pyplot as plt\n",
        "from scipy.io import loadmat\n",
        "import scipy.optimize as op\n",
        "\n",
        "# keras imports for the dataset and building our neural network\n",
        "from keras.models import Sequential\n",
        "# Instead of keras.layers.core, use keras.layers\n",
        "from keras.layers import Dense, Activation\n",
        "from keras import regularizers\n",
        "from keras import optimizers\n",
        "\n",
        "\n",
        "from numpy.random import seed\n"
      ]
    },
    {
      "cell_type": "markdown",
      "metadata": {
        "id": "7PDeCzSti4w8"
      },
      "source": [
        "### 2: Load data"
      ]
    },
    {
      "cell_type": "markdown",
      "metadata": {
        "id": "AzcFDbaNi4w8"
      },
      "source": [
        "The data will be loaded from a publicly available file. An alternative solution would be to upload the data file directly to the google colab file system."
      ]
    },
    {
      "cell_type": "code",
      "execution_count": 9,
      "metadata": {
        "id": "ISLi-hUNi4w8",
        "colab": {
          "base_uri": "https://localhost:8080/"
        },
        "outputId": "4a10ec42-c3ba-4b21-cf18-51a1d62e98db"
      },
      "outputs": [
        {
          "output_type": "stream",
          "name": "stdout",
          "text": [
            "--2024-12-19 06:14:36--  https://github.com/Fortuz/edu_Adaptive/raw/main/practices/assets/Lab08/Lab8data.mat\n",
            "Resolving github.com (github.com)... 140.82.112.3\n",
            "Connecting to github.com (github.com)|140.82.112.3|:443... connected.\n",
            "HTTP request sent, awaiting response... 302 Found\n",
            "Location: https://raw.githubusercontent.com/Fortuz/edu_Adaptive/main/practices/assets/Lab08/Lab8data.mat [following]\n",
            "--2024-12-19 06:14:37--  https://raw.githubusercontent.com/Fortuz/edu_Adaptive/main/practices/assets/Lab08/Lab8data.mat\n",
            "Resolving raw.githubusercontent.com (raw.githubusercontent.com)... 185.199.109.133, 185.199.110.133, 185.199.111.133, ...\n",
            "Connecting to raw.githubusercontent.com (raw.githubusercontent.com)|185.199.109.133|:443... connected.\n",
            "HTTP request sent, awaiting response... 200 OK\n",
            "Length: 1321 (1.3K) [application/octet-stream]\n",
            "Saving to: ‘Lab8data.mat’\n",
            "\n",
            "Lab8data.mat        100%[===================>]   1.29K  --.-KB/s    in 0s      \n",
            "\n",
            "2024-12-19 06:14:37 (41.7 MB/s) - ‘Lab8data.mat’ saved [1321/1321]\n",
            "\n",
            "--2024-12-19 06:14:37--  https://github.com/Fortuz/edu_Adaptive/raw/main/practices/assets/Lab08/w_final.txt\n",
            "Resolving github.com (github.com)... 140.82.112.3\n",
            "Connecting to github.com (github.com)|140.82.112.3|:443... connected.\n",
            "HTTP request sent, awaiting response... 302 Found\n",
            "Location: https://raw.githubusercontent.com/Fortuz/edu_Adaptive/main/practices/assets/Lab08/w_final.txt [following]\n",
            "--2024-12-19 06:14:37--  https://raw.githubusercontent.com/Fortuz/edu_Adaptive/main/practices/assets/Lab08/w_final.txt\n",
            "Resolving raw.githubusercontent.com (raw.githubusercontent.com)... 185.199.109.133, 185.199.110.133, 185.199.111.133, ...\n",
            "Connecting to raw.githubusercontent.com (raw.githubusercontent.com)|185.199.109.133|:443... connected.\n",
            "HTTP request sent, awaiting response... 200 OK\n",
            "Length: 155 [text/plain]\n",
            "Saving to: ‘w_final.txt’\n",
            "\n",
            "w_final.txt         100%[===================>]     155  --.-KB/s    in 0s      \n",
            "\n",
            "2024-12-19 06:14:38 (4.34 MB/s) - ‘w_final.txt’ saved [155/155]\n",
            "\n"
          ]
        }
      ],
      "source": [
        "!wget https://github.com/Fortuz/edu_Adaptive/raw/main/practices/assets/Lab08/Lab8data.mat\n",
        "!wget https://github.com/Fortuz/edu_Adaptive/raw/main/practices/assets/Lab08/w_final.txt"
      ]
    },
    {
      "cell_type": "markdown",
      "metadata": {
        "id": "TzQHKTP9i4w8"
      },
      "source": [
        "Load in the data! Use the Pandas package to do this and then convert it into a numpy array."
      ]
    },
    {
      "cell_type": "code",
      "execution_count": 10,
      "metadata": {
        "id": "x9wK66dei4w9",
        "colab": {
          "base_uri": "https://localhost:8080/"
        },
        "outputId": "01a1491d-97db-4a93-ee31-dfc5cd332aaf"
      },
      "outputs": [
        {
          "output_type": "stream",
          "name": "stdout",
          "text": [
            "Shape of X: (12, 1)\n",
            "Shape of Y: (12, 1)\n"
          ]
        }
      ],
      "source": [
        "data = loadmat(\"Lab8data.mat\")\n",
        "X_train = data[\"X\"]\n",
        "Y_train = data[\"y\"]\n",
        "X_val   = data[\"Xval\"]\n",
        "Y_val   = data[\"yval\"]\n",
        "X_test  = data[\"Xtest\"]\n",
        "Y_test  = data[\"ytest\"]\n",
        "\n",
        "del data\n",
        "m,n = X_train.shape\n",
        "print('Shape of X:', X_train.shape)\n",
        "print('Shape of Y:', Y_train.shape)"
      ]
    },
    {
      "cell_type": "markdown",
      "metadata": {
        "id": "dCaZF-UNi4w9"
      },
      "source": [
        "### 3: Visualization\n",
        "\n",
        "Let's vizualise the data set to understand it more."
      ]
    },
    {
      "cell_type": "code",
      "execution_count": 11,
      "metadata": {
        "id": "FjLE2o4Ti4w9",
        "colab": {
          "base_uri": "https://localhost:8080/",
          "height": 472
        },
        "outputId": "7a5b2def-189c-4b81-b22d-566ddce25f96"
      },
      "outputs": [
        {
          "output_type": "display_data",
          "data": {
            "text/plain": [
              "<Figure size 640x480 with 1 Axes>"
            ],
            "image/png": "[encoded data removed]"
          },
          "metadata": {}
        }
      ],
      "source": [
        "plt.plot(X_train,Y_train,'x')\n",
        "plt.title('Training data')\n",
        "plt.xlabel('Change in water level (X)')\n",
        "plt.ylabel('Water floeing out of the dam (Y)')\n",
        "plt.show()"
      ]
    },
    {
      "cell_type": "markdown",
      "metadata": {
        "id": "dlv4g8Vzi4w9"
      },
      "source": [
        "Machine learning goes as far as deep learning. The limit is the single layer neural network. With this in mind, let's return to the punishment process introduced in lab L04, now using neural network packages."
      ]
    },
    {
      "cell_type": "markdown",
      "metadata": {
        "id": "U-Ngcy7Pi4w9"
      },
      "source": [
        "### Linearized regression with regularization"
      ]
    },
    {
      "cell_type": "markdown",
      "metadata": {
        "id": "3ELnglULi4w9"
      },
      "source": [
        "We will create a network corresponding to a linear regression, which in our case will be based on 1 input variable and will consist of 1 layer containing 1 neuron. The BIAS tag will be added naturally and a penalty tag will be added. Two commonly used penalty methods are L1 and L2.\n",
        "\n",
        "#### L2 regularizáció (Ridge regression)\n",
        "$ C(w)=\\frac{1}{2m}\\sum_{i=1}^m(h_w(x^i)-y^i)^2+ \\color{red}{\\lambda\\sum_{j=1}^nw_j^2} $\n",
        "\n",
        "This technique can be used to prevent over fitting. $\\lambda $  should be choosen wisely. Setting it too high can result in under fitting.\n",
        "\n",
        "#### L1 regularisation (Lasso regression)\n",
        "$ C(w)=\\frac{1}{2m}\\sum_{i=1}^m(h_w(x^i)-y^i)^2+ \\color{red}{\\lambda\\sum_{j=1}^n|w_j|} $\n",
        "\n",
        "This technique can also reduce certain coefficients to 0, so it is useful for input parameter selection."
      ]
    },
    {
      "cell_type": "markdown",
      "metadata": {
        "id": "4FZPG7p3i4w9"
      },
      "source": [
        "Vizsgáljuk meg az alábbi háló összeállítást."
      ]
    },
    {
      "cell_type": "markdown",
      "metadata": {
        "id": "O4a2JPpJi4w9"
      },
      "source": [
        "Let's do the prediction."
      ]
    },
    {
      "cell_type": "code",
      "source": [
        "# Underfit Case\n",
        "Lambda = 0\n",
        "lr_rate = 0.005\n",
        "epoch = 100\n",
        "\n",
        "# building a linear stack of layers with the sequential model\n",
        "model = Sequential()\n",
        "model.add(Dense(1, input_shape=(1,), use_bias=True, kernel_regularizer=regularizers.l2(Lambda)))\n",
        "\n",
        "# compiling the sequential model\n",
        "# Change 'lr' to 'learning_rate'\n",
        "sgd = optimizers.Adam(learning_rate=lr_rate)\n",
        "model.compile(loss='MSE', optimizer=sgd)\n",
        "\n",
        "# training the model and saving metrics in history\n",
        "history = model.fit(X_train, Y_train, epochs=epoch, validation_data=(X_val, Y_val), verbose = 2)"
      ],
      "metadata": {
        "colab": {
          "base_uri": "https://localhost:8080/"
        },
        "id": "46EfGz49jo7Q",
        "outputId": "f7327f38-61c9-4be5-f1a7-c25ea7690597"
      },
      "execution_count": 13,
      "outputs": [
        {
          "output_type": "stream",
          "name": "stdout",
          "text": [
            "Epoch 1/100\n"
          ]
        },
        {
          "output_type": "stream",
          "name": "stderr",
          "text": [
            "/usr/local/lib/python3.10/dist-packages/keras/src/layers/core/dense.py:87: UserWarning: Do not pass an `input_shape`/`input_dim` argument to a layer. When using Sequential models, prefer using an `Input(shape)` object as the first layer in the model instead.\n",
            "  super().__init__(activity_regularizer=activity_regularizer, **kwargs)\n"
          ]
        },
        {
          "output_type": "stream",
          "name": "stdout",
          "text": [
            "1/1 - 1s - 1s/step - loss: 1352.1792 - val_loss: 1468.8915\n",
            "Epoch 2/100\n",
            "1/1 - 0s - 174ms/step - loss: 1342.1715 - val_loss: 1458.3376\n",
            "Epoch 3/100\n",
            "1/1 - 0s - 129ms/step - loss: 1332.2080 - val_loss: 1447.8308\n",
            "Epoch 4/100\n",
            "1/1 - 0s - 56ms/step - loss: 1322.2894 - val_loss: 1437.3721\n",
            "Epoch 5/100\n",
            "1/1 - 0s - 85ms/step - loss: 1312.4167 - val_loss: 1426.9615\n",
            "Epoch 6/100\n",
            "1/1 - 0s - 119ms/step - loss: 1302.5900 - val_loss: 1416.6006\n",
            "Epoch 7/100\n",
            "1/1 - 0s - 69ms/step - loss: 1292.8104 - val_loss: 1406.2898\n",
            "Epoch 8/100\n",
            "1/1 - 0s - 142ms/step - loss: 1283.0786 - val_loss: 1396.0293\n",
            "Epoch 9/100\n",
            "1/1 - 0s - 144ms/step - loss: 1273.3950 - val_loss: 1385.8206\n",
            "Epoch 10/100\n",
            "1/1 - 0s - 68ms/step - loss: 1263.7606 - val_loss: 1375.6638\n",
            "Epoch 11/100\n",
            "1/1 - 0s - 138ms/step - loss: 1254.1757 - val_loss: 1365.5598\n",
            "Epoch 12/100\n",
            "1/1 - 0s - 79ms/step - loss: 1244.6412 - val_loss: 1355.5095\n",
            "Epoch 13/100\n",
            "1/1 - 0s - 76ms/step - loss: 1235.1576 - val_loss: 1345.5127\n",
            "Epoch 14/100\n",
            "1/1 - 0s - 134ms/step - loss: 1225.7250 - val_loss: 1335.5706\n",
            "Epoch 15/100\n",
            "1/1 - 0s - 135ms/step - loss: 1216.3447 - val_loss: 1325.6833\n",
            "Epoch 16/100\n",
            "1/1 - 0s - 137ms/step - loss: 1207.0166 - val_loss: 1315.8517\n",
            "Epoch 17/100\n",
            "1/1 - 0s - 147ms/step - loss: 1197.7413 - val_loss: 1306.0760\n",
            "Epoch 18/100\n",
            "1/1 - 0s - 128ms/step - loss: 1188.5193 - val_loss: 1296.3567\n",
            "Epoch 19/100\n",
            "1/1 - 0s - 146ms/step - loss: 1179.3511 - val_loss: 1286.6943\n",
            "Epoch 20/100\n",
            "1/1 - 0s - 142ms/step - loss: 1170.2369 - val_loss: 1277.0892\n",
            "Epoch 21/100\n",
            "1/1 - 0s - 150ms/step - loss: 1161.1774 - val_loss: 1267.5417\n",
            "Epoch 22/100\n",
            "1/1 - 0s - 134ms/step - loss: 1152.1726 - val_loss: 1258.0521\n",
            "Epoch 23/100\n",
            "1/1 - 0s - 120ms/step - loss: 1143.2229 - val_loss: 1248.6208\n",
            "Epoch 24/100\n",
            "1/1 - 0s - 140ms/step - loss: 1134.3286 - val_loss: 1239.2479\n",
            "Epoch 25/100\n",
            "1/1 - 0s - 93ms/step - loss: 1125.4902 - val_loss: 1229.9341\n",
            "Epoch 26/100\n",
            "1/1 - 0s - 117ms/step - loss: 1116.7076 - val_loss: 1220.6790\n",
            "Epoch 27/100\n",
            "1/1 - 0s - 183ms/step - loss: 1107.9811 - val_loss: 1211.4832\n",
            "Epoch 28/100\n",
            "1/1 - 0s - 168ms/step - loss: 1099.3109 - val_loss: 1202.3467\n",
            "Epoch 29/100\n",
            "1/1 - 0s - 179ms/step - loss: 1090.6971 - val_loss: 1193.2697\n",
            "Epoch 30/100\n",
            "1/1 - 0s - 133ms/step - loss: 1082.1399 - val_loss: 1184.2523\n",
            "Epoch 31/100\n",
            "1/1 - 0s - 296ms/step - loss: 1073.6395 - val_loss: 1175.2947\n",
            "Epoch 32/100\n",
            "1/1 - 0s - 93ms/step - loss: 1065.1959 - val_loss: 1166.3969\n",
            "Epoch 33/100\n",
            "1/1 - 0s - 120ms/step - loss: 1056.8091 - val_loss: 1157.5590\n",
            "Epoch 34/100\n",
            "1/1 - 0s - 207ms/step - loss: 1048.4794 - val_loss: 1148.7809\n",
            "Epoch 35/100\n",
            "1/1 - 0s - 293ms/step - loss: 1040.2064 - val_loss: 1140.0627\n",
            "Epoch 36/100\n",
            "1/1 - 0s - 150ms/step - loss: 1031.9906 - val_loss: 1131.4047\n",
            "Epoch 37/100\n",
            "1/1 - 0s - 187ms/step - loss: 1023.8315 - val_loss: 1122.8064\n",
            "Epoch 38/100\n",
            "1/1 - 0s - 237ms/step - loss: 1015.7297 - val_loss: 1114.2679\n",
            "Epoch 39/100\n",
            "1/1 - 0s - 73ms/step - loss: 1007.6846 - val_loss: 1105.7894\n",
            "Epoch 40/100\n",
            "1/1 - 0s - 167ms/step - loss: 999.6963 - val_loss: 1097.3707\n",
            "Epoch 41/100\n",
            "1/1 - 0s - 259ms/step - loss: 991.7649 - val_loss: 1089.0115\n",
            "Epoch 42/100\n",
            "1/1 - 0s - 113ms/step - loss: 983.8903 - val_loss: 1080.7120\n",
            "Epoch 43/100\n",
            "1/1 - 0s - 380ms/step - loss: 976.0723 - val_loss: 1072.4720\n",
            "Epoch 44/100\n",
            "1/1 - 0s - 313ms/step - loss: 968.3106 - val_loss: 1064.2914\n",
            "Epoch 45/100\n",
            "1/1 - 0s - 254ms/step - loss: 960.6055 - val_loss: 1056.1698\n",
            "Epoch 46/100\n",
            "1/1 - 0s - 376ms/step - loss: 952.9567 - val_loss: 1048.1073\n",
            "Epoch 47/100\n",
            "1/1 - 0s - 113ms/step - loss: 945.3640 - val_loss: 1040.1039\n",
            "Epoch 48/100\n",
            "1/1 - 0s - 168ms/step - loss: 937.8273 - val_loss: 1032.1592\n",
            "Epoch 49/100\n",
            "1/1 - 0s - 160ms/step - loss: 930.3464 - val_loss: 1024.2732\n",
            "Epoch 50/100\n",
            "1/1 - 0s - 203ms/step - loss: 922.9213 - val_loss: 1016.4455\n",
            "Epoch 51/100\n",
            "1/1 - 0s - 285ms/step - loss: 915.5515 - val_loss: 1008.6761\n",
            "Epoch 52/100\n",
            "1/1 - 0s - 244ms/step - loss: 908.2371 - val_loss: 1000.9647\n",
            "Epoch 53/100\n",
            "1/1 - 0s - 78ms/step - loss: 900.9780 - val_loss: 993.3112\n",
            "Epoch 54/100\n",
            "1/1 - 0s - 100ms/step - loss: 893.7737 - val_loss: 985.7153\n",
            "Epoch 55/100\n",
            "1/1 - 0s - 122ms/step - loss: 886.6242 - val_loss: 978.1769\n",
            "Epoch 56/100\n",
            "1/1 - 0s - 112ms/step - loss: 879.5292 - val_loss: 970.6956\n",
            "Epoch 57/100\n",
            "1/1 - 0s - 57ms/step - loss: 872.4888 - val_loss: 963.2715\n",
            "Epoch 58/100\n",
            "1/1 - 0s - 49ms/step - loss: 865.5022 - val_loss: 955.9040\n",
            "Epoch 59/100\n",
            "1/1 - 0s - 49ms/step - loss: 858.5698 - val_loss: 948.5932\n",
            "Epoch 60/100\n",
            "1/1 - 0s - 66ms/step - loss: 851.6910 - val_loss: 941.3387\n",
            "Epoch 61/100\n",
            "1/1 - 0s - 155ms/step - loss: 844.8657 - val_loss: 934.1401\n",
            "Epoch 62/100\n",
            "1/1 - 0s - 52ms/step - loss: 838.0936 - val_loss: 926.9974\n",
            "Epoch 63/100\n",
            "1/1 - 0s - 53ms/step - loss: 831.3745 - val_loss: 919.9103\n",
            "Epoch 64/100\n",
            "1/1 - 0s - 46ms/step - loss: 824.7082 - val_loss: 912.8786\n",
            "Epoch 65/100\n",
            "1/1 - 0s - 50ms/step - loss: 818.0945 - val_loss: 905.9020\n",
            "Epoch 66/100\n",
            "1/1 - 0s - 48ms/step - loss: 811.5332 - val_loss: 898.9802\n",
            "Epoch 67/100\n",
            "1/1 - 0s - 47ms/step - loss: 805.0239 - val_loss: 892.1132\n",
            "Epoch 68/100\n",
            "1/1 - 0s - 58ms/step - loss: 798.5665 - val_loss: 885.3003\n",
            "Epoch 69/100\n",
            "1/1 - 0s - 53ms/step - loss: 792.1606 - val_loss: 878.5417\n",
            "Epoch 70/100\n",
            "1/1 - 0s - 58ms/step - loss: 785.8062 - val_loss: 871.8367\n",
            "Epoch 71/100\n",
            "1/1 - 0s - 51ms/step - loss: 779.5029 - val_loss: 865.1855\n",
            "Epoch 72/100\n",
            "1/1 - 0s - 49ms/step - loss: 773.2505 - val_loss: 858.5877\n",
            "Epoch 73/100\n",
            "1/1 - 0s - 58ms/step - loss: 767.0486 - val_loss: 852.0428\n",
            "Epoch 74/100\n",
            "1/1 - 0s - 58ms/step - loss: 760.8972 - val_loss: 845.5507\n",
            "Epoch 75/100\n",
            "1/1 - 0s - 61ms/step - loss: 754.7959 - val_loss: 839.1110\n",
            "Epoch 76/100\n",
            "1/1 - 0s - 62ms/step - loss: 748.7442 - val_loss: 832.7237\n",
            "Epoch 77/100\n",
            "1/1 - 0s - 57ms/step - loss: 742.7424 - val_loss: 826.3884\n",
            "Epoch 78/100\n",
            "1/1 - 0s - 94ms/step - loss: 736.7899 - val_loss: 820.1047\n",
            "Epoch 79/100\n",
            "1/1 - 0s - 119ms/step - loss: 730.8862 - val_loss: 813.8727\n",
            "Epoch 80/100\n",
            "1/1 - 0s - 58ms/step - loss: 725.0317 - val_loss: 807.6916\n",
            "Epoch 81/100\n",
            "1/1 - 0s - 60ms/step - loss: 719.2258 - val_loss: 801.5616\n",
            "Epoch 82/100\n",
            "1/1 - 0s - 50ms/step - loss: 713.4681 - val_loss: 795.4822\n",
            "Epoch 83/100\n",
            "1/1 - 0s - 52ms/step - loss: 707.7584 - val_loss: 789.4532\n",
            "Epoch 84/100\n",
            "1/1 - 0s - 51ms/step - loss: 702.0965 - val_loss: 783.4746\n",
            "Epoch 85/100\n",
            "1/1 - 0s - 47ms/step - loss: 696.4825 - val_loss: 777.5455\n",
            "Epoch 86/100\n",
            "1/1 - 0s - 60ms/step - loss: 690.9155 - val_loss: 771.6661\n",
            "Epoch 87/100\n",
            "1/1 - 0s - 57ms/step - loss: 685.3957 - val_loss: 765.8359\n",
            "Epoch 88/100\n",
            "1/1 - 0s - 59ms/step - loss: 679.9225 - val_loss: 760.0550\n",
            "Epoch 89/100\n",
            "1/1 - 0s - 63ms/step - loss: 674.4960 - val_loss: 754.3226\n",
            "Epoch 90/100\n",
            "1/1 - 0s - 52ms/step - loss: 669.1157 - val_loss: 748.6390\n",
            "Epoch 91/100\n",
            "1/1 - 0s - 63ms/step - loss: 663.7815 - val_loss: 743.0033\n",
            "Epoch 92/100\n",
            "1/1 - 0s - 61ms/step - loss: 658.4929 - val_loss: 737.4159\n",
            "Epoch 93/100\n",
            "1/1 - 0s - 53ms/step - loss: 653.2501 - val_loss: 731.8759\n",
            "Epoch 94/100\n",
            "1/1 - 0s - 63ms/step - loss: 648.0522 - val_loss: 726.3835\n",
            "Epoch 95/100\n",
            "1/1 - 0s - 58ms/step - loss: 642.8995 - val_loss: 720.9382\n",
            "Epoch 96/100\n",
            "1/1 - 0s - 55ms/step - loss: 637.7914 - val_loss: 715.5399\n",
            "Epoch 97/100\n",
            "1/1 - 0s - 58ms/step - loss: 632.7281 - val_loss: 710.1880\n",
            "Epoch 98/100\n",
            "1/1 - 0s - 56ms/step - loss: 627.7087 - val_loss: 704.8827\n",
            "Epoch 99/100\n",
            "1/1 - 0s - 52ms/step - loss: 622.7333 - val_loss: 699.6233\n",
            "Epoch 100/100\n",
            "1/1 - 0s - 48ms/step - loss: 617.8017 - val_loss: 694.4097\n"
          ]
        }
      ]
    },
    {
      "cell_type": "code",
      "execution_count": null,
      "metadata": {
        "id": "TVvGpayoi4w9"
      },
      "outputs": [],
      "source": [
        "################### CODE HERE ########################\n",
        "# Implement the prediction step.\n",
        "# Use the predict() function of the model\n",
        "\n",
        "Y_pred = model.predict(X_test)\n",
        "\n",
        "######################################################"
      ]
    },
    {
      "cell_type": "markdown",
      "metadata": {
        "id": "OfSf5fMCi4w-"
      },
      "source": [
        "Plot the result."
      ]
    },
    {
      "cell_type": "code",
      "execution_count": null,
      "metadata": {
        "id": "Edj04Zx1i4w-"
      },
      "outputs": [],
      "source": [
        "plt.plot(X_train,Y_train,'x')   # adatok megjelenítése\n",
        "plt.plot(X_test,Y_pred,'x', color='red')   # adatok megjelenítése\n",
        "plt.title('Training data')\n",
        "plt.xlabel('Change in water level (X)')\n",
        "plt.ylabel('Water floeing out of the dam (Y)')\n",
        "plt.legend(['Training data', 'Prediction (on Test data)'])\n",
        "plt.show()"
      ]
    },
    {
      "cell_type": "markdown",
      "metadata": {
        "id": "HltGOwn9i4w-"
      },
      "source": [
        "In line with our expectations and our simple model design, we obtained a linear estimate that does not seem to adequately capture our data. Using the built-in metrics, we can examine the running of the cost function on the training and validation data. To do this, we first plot the corresponding metrics."
      ]
    },
    {
      "cell_type": "code",
      "execution_count": 14,
      "metadata": {
        "id": "exbSqks_i4w-",
        "colab": {
          "base_uri": "https://localhost:8080/",
          "height": 489
        },
        "outputId": "91432a11-03e4-46b6-fb57-4c88e7cb7eff"
      },
      "outputs": [
        {
          "output_type": "execute_result",
          "data": {
            "text/plain": [
              "<matplotlib.legend.Legend at 0x7a65b05c2f50>"
            ]
          },
          "metadata": {},
          "execution_count": 14
        },
        {
          "output_type": "display_data",
          "data": {
            "text/plain": [
              "<Figure size 640x480 with 1 Axes>"
            ],
            "image/png": "[encoded data removed]"
          },
          "metadata": {}
        }
      ],
      "source": [
        "# plotting the metrics\n",
        "fig = plt.figure()\n",
        "plt.plot(history.history['loss'])\n",
        "plt.plot(history.history['val_loss'])\n",
        "plt.title('Loss functions')\n",
        "plt.ylabel('loss')\n",
        "plt.xlabel('epoch')\n",
        "plt.legend(['Training loss', 'Validation loss'])"
      ]
    },
    {
      "cell_type": "markdown",
      "metadata": {
        "id": "J0TeA04Ti4w-"
      },
      "source": [
        "In the graph, we can observe that both the cost function of the training data and the cost function of the validation data remain high. Higher than one would expect from a well-functioning predictor.\n",
        "\n",
        "<img src=\"https://github.com/Fortuz/edu_Adaptive/blob/main/practices/assets/Lab08/Pics/L08_HighBias.png?raw=1\" width=\"600\">"
      ]
    },
    {
      "cell_type": "markdown",
      "metadata": {
        "id": "IOSaXf6Ai4w-"
      },
      "source": [
        "So let's change our model to get a better result."
      ]
    },
    {
      "cell_type": "markdown",
      "metadata": {
        "id": "k1fKbAQ-i4w-"
      },
      "source": [
        "### 4: Poly Feature"
      ]
    },
    {
      "cell_type": "markdown",
      "metadata": {
        "id": "gwH8FBnri4w-"
      },
      "source": [
        "To get a better result, we need more input parameters. One possible way to generate more parameters is to take the polynomial coefficients of the available parameter and feed them into your neural network as additional parameters.\n",
        "\n",
        "Write a function that takes as input the matrix of actual samples and enriches it with the appropriate columns up to the desired exponent. $x => x, x^2, x^3 ... x^p$"
      ]
    },
    {
      "cell_type": "code",
      "execution_count": 15,
      "metadata": {
        "id": "l50K81CDi4w-"
      },
      "outputs": [],
      "source": [
        "def polyFeatures(X,p=9):\n",
        "    ################### CODE HERE ########################\n",
        "    # Implement the feature extension for the input data\n",
        "\n",
        "    m=X.shape[0]\n",
        "    X_poly = np.zeros((m,p))\n",
        "\n",
        "    for i in range(1,m+1):\n",
        "        for j in range(1,p+1):\n",
        "            X_poly[i-1,j-1] = X[i-1]**j\n",
        "\n",
        "    ######################################################\n",
        "    return X_poly"
      ]
    },
    {
      "cell_type": "markdown",
      "metadata": {
        "id": "SuVfctYvi4w-"
      },
      "source": [
        "Do not forget to lower the values, otherwise the high exponent members would distort the learning very much. Write a normalization function that takes a sample matrix as input and returns the means and variances as a vector in addition to the normalized matrix."
      ]
    },
    {
      "cell_type": "code",
      "execution_count": 16,
      "metadata": {
        "id": "VsFzzXtUi4w-"
      },
      "outputs": [],
      "source": [
        "def featureNormalize(X):\n",
        "    ################### CODE HERE ########################\n",
        "    # Normalize the features of the input data.\n",
        "    # Each features has different normalization values.\n",
        "\n",
        "    avg = np.mean(X, axis = 0)\n",
        "    X_norm = X-avg\n",
        "    std = np.std(X_norm, axis = 0,ddof = 1)\n",
        "    X_norm = X_norm/std\n",
        "\n",
        "    ######################################################\n",
        "    return X_norm,avg,std"
      ]
    },
    {
      "cell_type": "markdown",
      "metadata": {
        "id": "61QBAgPzi4w-"
      },
      "source": [
        "Perform both the polynomial variable enrichment and the normalization.\n",
        "\n",
        "$\\color{red}{Warning!}$\n",
        "\n",
        "You should be aware of that during training you only want to use information from the training data set. This means that we should also normalise the test and validation data using the mean and standard deviation calculated from the training data. Otherwise, we would leak data back to the algorithm that could distort the learning result. The validation and test datasets thus remain truly independent and the algorithm can only work with the information obtained from the training data."
      ]
    },
    {
      "cell_type": "code",
      "execution_count": 17,
      "metadata": {
        "id": "3-oNS4tci4w-",
        "colab": {
          "base_uri": "https://localhost:8080/"
        },
        "outputId": "7b3afbbf-c5a8-4197-913a-9d020c50ff52"
      },
      "outputs": [
        {
          "output_type": "stream",
          "name": "stdout",
          "text": [
            "Expected Normalized Training Example for order=3 (approx.):\n",
            "[-0.362 -0.755  0.182 ]\n",
            "Normalized Training Example 1:\n",
            " [-0.36214078 -0.75508669  0.18222588 -0.70618991  0.30661792 -0.59087767\n",
            "  0.3445158  -0.50848117  0.35954927]\n"
          ]
        },
        {
          "output_type": "stream",
          "name": "stderr",
          "text": [
            "<ipython-input-15-28297be10fac>:10: DeprecationWarning: Conversion of an array with ndim > 0 to a scalar is deprecated, and will error in future. Ensure you extract a single element from your array before performing this operation. (Deprecated NumPy 1.25.)\n",
            "  X_poly[i-1,j-1] = X[i-1]**j\n"
          ]
        }
      ],
      "source": [
        "order=9\n",
        "\n",
        "# Training data\n",
        "X_train_p = polyFeatures(X_train, order)                                # polynomial features\n",
        "X_train_pn, mu, sigma = featureNormalize(X_train_p)                     # feature normalization\n",
        "\n",
        "################### CODE HERE ########################\n",
        "# Perform the feature extension and normalization for the remaining data sets as well\n",
        "\n",
        "# Validation data\n",
        "X_val_p = polyFeatures(X_val, order)\n",
        "X_val_pn = (X_val_p-mu)/sigma\n",
        "\n",
        "# Teszt data\n",
        "X_test_p = polyFeatures(X_test, order)\n",
        "X_test_pn = (X_test_p-mu)/sigma\n",
        "\n",
        "######################################################\n",
        "\n",
        "print(\"\"\"Expected Normalized Training Example for order=3 (approx.):\n",
        "[-0.362 -0.755  0.182 ]\"\"\")\n",
        "print('Normalized Training Example 1:\\n',X_train_pn[0,:])"
      ]
    },
    {
      "cell_type": "markdown",
      "metadata": {
        "id": "xBwIQtMci4w_"
      },
      "source": [
        "Set the parameters."
      ]
    },
    {
      "cell_type": "code",
      "execution_count": 20,
      "metadata": {
        "id": "KnZwyCBvi4w_"
      },
      "outputs": [],
      "source": [
        "# Just Right Case\n",
        "Lambda = 0\n",
        "lr_rate = 0.01\n",
        "epoch = 100\n",
        "optim = optimizers.SGD(lr_rate)"
      ]
    },
    {
      "cell_type": "markdown",
      "metadata": {
        "id": "iWZKvrr2i4w_"
      },
      "source": [
        "Since we have increased the number of variables, we need to modify our model. The input layer should fit the size of our increased input matrix, but we still only want one output."
      ]
    },
    {
      "cell_type": "code",
      "execution_count": 21,
      "metadata": {
        "id": "PE-vaf5Xi4w_"
      },
      "outputs": [],
      "source": [
        "# Building a linear stack of layers with the sequential model\n",
        "model2 = Sequential()\n",
        "\n",
        "################### CODE HERE ########################\n",
        "# Build a 2 layer Neural Network matching the input shape of the data and producing 1 output.\n",
        "# Use BIAS and L2 regularization.\n",
        "\n",
        "model2.add(Dense(order, input_shape=(order,), use_bias=True, kernel_regularizer=regularizers.l2(Lambda)))\n",
        "model2.add(Dense(1))\n",
        "\n",
        "######################################################"
      ]
    },
    {
      "cell_type": "markdown",
      "metadata": {
        "id": "fUDAjzcai4w_"
      },
      "source": [
        "After the architecture of the model is established, the model is compiled and the cost function and the optimizer are defined. Again, there are several options to choose from, such as SGD or ADAM."
      ]
    },
    {
      "cell_type": "code",
      "execution_count": 25,
      "metadata": {
        "id": "pYn_3UMbi4w_",
        "colab": {
          "base_uri": "https://localhost:8080/"
        },
        "outputId": "51bc9ec1-60ac-400b-caf9-381dd99a307e"
      },
      "outputs": [
        {
          "output_type": "stream",
          "name": "stdout",
          "text": [
            "Epoch 1/100\n",
            "1/1 - 1s - 1s/step - loss: 287.1487 - val_loss: 340.1970\n",
            "Epoch 2/100\n",
            "1/1 - 0s - 96ms/step - loss: 283.1364 - val_loss: 335.1156\n",
            "Epoch 3/100\n",
            "1/1 - 0s - 122ms/step - loss: 279.2896 - val_loss: 330.2528\n",
            "Epoch 4/100\n",
            "1/1 - 0s - 137ms/step - loss: 275.5573 - val_loss: 325.5003\n",
            "Epoch 5/100\n",
            "1/1 - 0s - 139ms/step - loss: 271.9040 - val_loss: 320.8320\n",
            "Epoch 6/100\n",
            "1/1 - 0s - 144ms/step - loss: 268.3174 - val_loss: 316.2355\n",
            "Epoch 7/100\n",
            "1/1 - 0s - 115ms/step - loss: 264.7905 - val_loss: 311.6968\n",
            "Epoch 8/100\n",
            "1/1 - 0s - 57ms/step - loss: 261.3166 - val_loss: 307.1976\n",
            "Epoch 9/100\n",
            "1/1 - 0s - 47ms/step - loss: 257.8869 - val_loss: 302.7155\n",
            "Epoch 10/100\n",
            "1/1 - 0s - 66ms/step - loss: 254.4908 - val_loss: 298.2250\n",
            "Epoch 11/100\n",
            "1/1 - 0s - 47ms/step - loss: 251.1152 - val_loss: 293.7007\n",
            "Epoch 12/100\n",
            "1/1 - 0s - 46ms/step - loss: 247.7457 - val_loss: 289.1195\n",
            "Epoch 13/100\n",
            "1/1 - 0s - 62ms/step - loss: 244.3676 - val_loss: 284.4626\n",
            "Epoch 14/100\n",
            "1/1 - 0s - 64ms/step - loss: 240.9666 - val_loss: 279.7154\n",
            "Epoch 15/100\n",
            "1/1 - 0s - 52ms/step - loss: 237.5300 - val_loss: 274.8652\n",
            "Epoch 16/100\n",
            "1/1 - 0s - 133ms/step - loss: 234.0468 - val_loss: 269.9016\n",
            "Epoch 17/100\n",
            "1/1 - 0s - 60ms/step - loss: 230.5074 - val_loss: 264.8151\n",
            "Epoch 18/100\n",
            "1/1 - 0s - 47ms/step - loss: 226.9034 - val_loss: 259.5976\n",
            "Epoch 19/100\n",
            "1/1 - 0s - 51ms/step - loss: 223.2274 - val_loss: 254.2427\n",
            "Epoch 20/100\n",
            "1/1 - 0s - 48ms/step - loss: 219.4729 - val_loss: 248.7461\n",
            "Epoch 21/100\n",
            "1/1 - 0s - 59ms/step - loss: 215.6347 - val_loss: 243.1057\n",
            "Epoch 22/100\n",
            "1/1 - 0s - 57ms/step - loss: 211.7084 - val_loss: 237.3223\n",
            "Epoch 23/100\n",
            "1/1 - 0s - 59ms/step - loss: 207.6907 - val_loss: 231.3987\n",
            "Epoch 24/100\n",
            "1/1 - 0s - 49ms/step - loss: 203.5797 - val_loss: 225.3406\n",
            "Epoch 25/100\n",
            "1/1 - 0s - 52ms/step - loss: 199.3746 - val_loss: 219.1558\n",
            "Epoch 26/100\n",
            "1/1 - 0s - 56ms/step - loss: 195.0757 - val_loss: 212.8544\n",
            "Epoch 27/100\n",
            "1/1 - 0s - 61ms/step - loss: 190.6845 - val_loss: 206.4485\n",
            "Epoch 28/100\n",
            "1/1 - 0s - 59ms/step - loss: 186.2037 - val_loss: 199.9522\n",
            "Epoch 29/100\n",
            "1/1 - 0s - 56ms/step - loss: 181.6368 - val_loss: 193.3812\n",
            "Epoch 30/100\n",
            "1/1 - 0s - 57ms/step - loss: 176.9885 - val_loss: 186.7534\n",
            "Epoch 31/100\n",
            "1/1 - 0s - 62ms/step - loss: 172.2646 - val_loss: 180.0880\n",
            "Epoch 32/100\n",
            "1/1 - 0s - 128ms/step - loss: 167.4716 - val_loss: 173.4058\n",
            "Epoch 33/100\n",
            "1/1 - 0s - 56ms/step - loss: 162.6171 - val_loss: 166.7293\n",
            "Epoch 34/100\n",
            "1/1 - 0s - 48ms/step - loss: 157.7094 - val_loss: 160.0822\n",
            "Epoch 35/100\n",
            "1/1 - 0s - 52ms/step - loss: 152.7578 - val_loss: 153.4895\n",
            "Epoch 36/100\n",
            "1/1 - 0s - 58ms/step - loss: 147.7725 - val_loss: 146.9774\n",
            "Epoch 37/100\n",
            "1/1 - 0s - 58ms/step - loss: 142.7643 - val_loss: 140.5730\n",
            "Epoch 38/100\n",
            "1/1 - 0s - 61ms/step - loss: 137.7449 - val_loss: 134.3044\n",
            "Epoch 39/100\n",
            "1/1 - 0s - 48ms/step - loss: 132.7266 - val_loss: 128.2002\n",
            "Epoch 40/100\n",
            "1/1 - 0s - 55ms/step - loss: 127.7225 - val_loss: 122.2898\n",
            "Epoch 41/100\n",
            "1/1 - 0s - 51ms/step - loss: 122.7460 - val_loss: 116.6023\n",
            "Epoch 42/100\n",
            "1/1 - 0s - 56ms/step - loss: 117.8112 - val_loss: 111.1671\n",
            "Epoch 43/100\n",
            "1/1 - 0s - 48ms/step - loss: 112.9323 - val_loss: 106.0129\n",
            "Epoch 44/100\n",
            "1/1 - 0s - 67ms/step - loss: 108.1237 - val_loss: 101.1678\n",
            "Epoch 45/100\n",
            "1/1 - 0s - 135ms/step - loss: 103.4001 - val_loss: 96.6584\n",
            "Epoch 46/100\n",
            "1/1 - 0s - 62ms/step - loss: 98.7755 - val_loss: 92.5094\n",
            "Epoch 47/100\n",
            "1/1 - 0s - 57ms/step - loss: 94.2638 - val_loss: 88.7432\n",
            "Epoch 48/100\n",
            "1/1 - 0s - 63ms/step - loss: 89.8784 - val_loss: 85.3791\n",
            "Epoch 49/100\n",
            "1/1 - 0s - 55ms/step - loss: 85.6314 - val_loss: 82.4327\n",
            "Epoch 50/100\n",
            "1/1 - 0s - 52ms/step - loss: 81.5342 - val_loss: 79.9152\n",
            "Epoch 51/100\n",
            "1/1 - 0s - 50ms/step - loss: 77.5966 - val_loss: 77.8330\n",
            "Epoch 52/100\n",
            "1/1 - 0s - 49ms/step - loss: 73.8272 - val_loss: 76.1867\n",
            "Epoch 53/100\n",
            "1/1 - 0s - 58ms/step - loss: 70.2327 - val_loss: 74.9710\n",
            "Epoch 54/100\n",
            "1/1 - 0s - 57ms/step - loss: 66.8182 - val_loss: 74.1741\n",
            "Epoch 55/100\n",
            "1/1 - 0s - 48ms/step - loss: 63.5869 - val_loss: 73.7774\n",
            "Epoch 56/100\n",
            "1/1 - 0s - 49ms/step - loss: 60.5402 - val_loss: 73.7557\n",
            "Epoch 57/100\n",
            "1/1 - 0s - 58ms/step - loss: 57.6777 - val_loss: 74.0772\n",
            "Epoch 58/100\n",
            "1/1 - 0s - 59ms/step - loss: 54.9972 - val_loss: 74.7034\n",
            "Epoch 59/100\n",
            "1/1 - 0s - 58ms/step - loss: 52.4946 - val_loss: 75.5902\n",
            "Epoch 60/100\n",
            "1/1 - 0s - 162ms/step - loss: 50.1640 - val_loss: 76.6881\n",
            "Epoch 61/100\n",
            "1/1 - 0s - 112ms/step - loss: 47.9977 - val_loss: 77.9437\n",
            "Epoch 62/100\n",
            "1/1 - 0s - 49ms/step - loss: 45.9862 - val_loss: 79.3003\n",
            "Epoch 63/100\n",
            "1/1 - 0s - 59ms/step - loss: 44.1185 - val_loss: 80.7001\n",
            "Epoch 64/100\n",
            "1/1 - 0s - 49ms/step - loss: 42.3821 - val_loss: 82.0856\n",
            "Epoch 65/100\n",
            "1/1 - 0s - 48ms/step - loss: 40.7635 - val_loss: 83.4016\n",
            "Epoch 66/100\n",
            "1/1 - 0s - 64ms/step - loss: 39.2487 - val_loss: 84.5970\n",
            "Epoch 67/100\n",
            "1/1 - 0s - 50ms/step - loss: 37.8235 - val_loss: 85.6260\n",
            "Epoch 68/100\n",
            "1/1 - 0s - 52ms/step - loss: 36.4743 - val_loss: 86.4499\n",
            "Epoch 69/100\n",
            "1/1 - 0s - 58ms/step - loss: 35.1884 - val_loss: 87.0373\n",
            "Epoch 70/100\n",
            "1/1 - 0s - 59ms/step - loss: 33.9544 - val_loss: 87.3649\n",
            "Epoch 71/100\n",
            "1/1 - 0s - 50ms/step - loss: 32.7625 - val_loss: 87.4171\n",
            "Epoch 72/100\n",
            "1/1 - 0s - 58ms/step - loss: 31.6045 - val_loss: 87.1860\n",
            "Epoch 73/100\n",
            "1/1 - 0s - 49ms/step - loss: 30.4737 - val_loss: 86.6704\n",
            "Epoch 74/100\n",
            "1/1 - 0s - 48ms/step - loss: 29.3651 - val_loss: 85.8758\n",
            "Epoch 75/100\n",
            "1/1 - 0s - 152ms/step - loss: 28.2751 - val_loss: 84.8130\n",
            "Epoch 76/100\n",
            "1/1 - 0s - 125ms/step - loss: 27.2015 - val_loss: 83.4977\n",
            "Epoch 77/100\n",
            "1/1 - 0s - 57ms/step - loss: 26.1433 - val_loss: 81.9496\n",
            "Epoch 78/100\n",
            "1/1 - 0s - 49ms/step - loss: 25.1003 - val_loss: 80.1913\n",
            "Epoch 79/100\n",
            "1/1 - 0s - 59ms/step - loss: 24.0737 - val_loss: 78.2480\n",
            "Epoch 80/100\n",
            "1/1 - 0s - 50ms/step - loss: 23.0652 - val_loss: 76.1462\n",
            "Epoch 81/100\n",
            "1/1 - 0s - 55ms/step - loss: 22.0770 - val_loss: 73.9132\n",
            "Epoch 82/100\n",
            "1/1 - 0s - 57ms/step - loss: 21.1119 - val_loss: 71.5764\n",
            "Epoch 83/100\n",
            "1/1 - 0s - 59ms/step - loss: 20.1725 - val_loss: 69.1624\n",
            "Epoch 84/100\n",
            "1/1 - 0s - 61ms/step - loss: 19.2618 - val_loss: 66.6970\n",
            "Epoch 85/100\n",
            "1/1 - 0s - 49ms/step - loss: 18.3822 - val_loss: 64.2040\n",
            "Epoch 86/100\n",
            "1/1 - 0s - 58ms/step - loss: 17.5359 - val_loss: 61.7060\n",
            "Epoch 87/100\n",
            "1/1 - 0s - 51ms/step - loss: 16.7249 - val_loss: 59.2231\n",
            "Epoch 88/100\n",
            "1/1 - 0s - 60ms/step - loss: 15.9504 - val_loss: 56.7737\n",
            "Epoch 89/100\n",
            "1/1 - 0s - 64ms/step - loss: 15.2135 - val_loss: 54.3738\n",
            "Epoch 90/100\n",
            "1/1 - 0s - 72ms/step - loss: 14.5148 - val_loss: 52.0374\n",
            "Epoch 91/100\n",
            "1/1 - 0s - 67ms/step - loss: 13.8544 - val_loss: 49.7762\n",
            "Epoch 92/100\n",
            "1/1 - 0s - 52ms/step - loss: 13.2323 - val_loss: 47.5999\n",
            "Epoch 93/100\n",
            "1/1 - 0s - 58ms/step - loss: 12.6479 - val_loss: 45.5160\n",
            "Epoch 94/100\n",
            "1/1 - 0s - 50ms/step - loss: 12.1004 - val_loss: 43.5303\n",
            "Epoch 95/100\n",
            "1/1 - 0s - 50ms/step - loss: 11.5888 - val_loss: 41.6466\n",
            "Epoch 96/100\n",
            "1/1 - 0s - 57ms/step - loss: 11.1117 - val_loss: 39.8672\n",
            "Epoch 97/100\n",
            "1/1 - 0s - 48ms/step - loss: 10.6678 - val_loss: 38.1927\n",
            "Epoch 98/100\n",
            "1/1 - 0s - 62ms/step - loss: 10.2552 - val_loss: 36.6227\n",
            "Epoch 99/100\n",
            "1/1 - 0s - 51ms/step - loss: 9.8725 - val_loss: 35.1556\n",
            "Epoch 100/100\n",
            "1/1 - 0s - 54ms/step - loss: 9.5178 - val_loss: 33.7888\n"
          ]
        }
      ],
      "source": [
        "# Compiling the sequential model\n",
        "# optim = optimizers.SGD(lr=lr_rate)\n",
        "optim = optimizers.Adam(lr_rate)\n",
        "model2.compile(loss='MSE', optimizer=optim)\n",
        "\n",
        "# Training the model and saving metrics in history\n",
        "history2 = model2.fit(X_train_pn, Y_train, epochs=epoch, validation_data=(X_val_pn, Y_val), verbose = 2)"
      ]
    },
    {
      "cell_type": "markdown",
      "metadata": {
        "id": "DqEbyXl2i4w_"
      },
      "source": [
        "After training the model, we make this prediction on our test data."
      ]
    },
    {
      "cell_type": "code",
      "execution_count": 26,
      "metadata": {
        "id": "xY_v9vqui4w_",
        "colab": {
          "base_uri": "https://localhost:8080/"
        },
        "outputId": "fc4e5eea-69d9-408a-feaf-4eeecdf9c138"
      },
      "outputs": [
        {
          "output_type": "stream",
          "name": "stdout",
          "text": [
            "\u001b[1m1/1\u001b[0m \u001b[32m━━━━━━━━━━━━━━━━━━━━\u001b[0m\u001b[37m\u001b[0m \u001b[1m0s\u001b[0m 78ms/step\n"
          ]
        }
      ],
      "source": [
        "################### CODE HERE ########################\n",
        "# Calculate the predictions using the recently trained model.\n",
        "\n",
        "Y_pred2 = model2.predict(X_test_pn)\n",
        "\n",
        "######################################################"
      ]
    },
    {
      "cell_type": "markdown",
      "metadata": {
        "id": "g5dpI8wli4xC"
      },
      "source": [
        "Let's plot the result of the prediction."
      ]
    },
    {
      "cell_type": "code",
      "execution_count": 27,
      "metadata": {
        "id": "EI59Fjtyi4xD",
        "colab": {
          "base_uri": "https://localhost:8080/",
          "height": 472
        },
        "outputId": "f07408a5-46d1-4faa-e8b3-70562e05144d"
      },
      "outputs": [
        {
          "output_type": "display_data",
          "data": {
            "text/plain": [
              "<Figure size 640x480 with 1 Axes>"
            ],
            "image/png": "[encoded data removed]"
          },
          "metadata": {}
        }
      ],
      "source": [
        "plt.plot(X_test,Y_pred2,'x', color=\"red\")\n",
        "plt.plot(X_test,Y_test,'x', color=\"green\")\n",
        "plt.title('Training data')\n",
        "plt.xlabel('Change in water level (X)')\n",
        "plt.ylabel('Water floeing out of the dam (Y)')\n",
        "plt.legend(['Prediction', 'Test'])\n",
        "plt.show()"
      ]
    },
    {
      "cell_type": "markdown",
      "metadata": {
        "id": "uzRIGVlxi4xD"
      },
      "source": [
        "You can see that the extended model gives a much better result, which fits our data much better. The result is also reflected in the metrics."
      ]
    },
    {
      "cell_type": "code",
      "execution_count": 28,
      "metadata": {
        "id": "QAO_apCzi4xD",
        "colab": {
          "base_uri": "https://localhost:8080/",
          "height": 489
        },
        "outputId": "497f5828-6505-4a30-e4f8-3fbd2b6df598"
      },
      "outputs": [
        {
          "output_type": "execute_result",
          "data": {
            "text/plain": [
              "<matplotlib.legend.Legend at 0x7a65a0773940>"
            ]
          },
          "metadata": {},
          "execution_count": 28
        },
        {
          "output_type": "display_data",
          "data": {
            "text/plain": [
              "<Figure size 640x480 with 1 Axes>"
            ],
            "image/png": "[encoded data removed]"
          },
          "metadata": {}
        }
      ],
      "source": [
        "# plotting the metrics\n",
        "fig = plt.figure()\n",
        "plt.plot(history2.history['loss'])\n",
        "plt.plot(history2.history['val_loss'])\n",
        "plt.title('Loss functions')\n",
        "plt.ylabel('loss')\n",
        "plt.xlabel('epoch')\n",
        "plt.legend(['Train loss', 'Validation loss'])"
      ]
    },
    {
      "cell_type": "markdown",
      "metadata": {
        "id": "LoeqYjwJi4xD"
      },
      "source": [
        "Both the cost function of our training data and the cost function of our validation data were significantly lower than in our first attempt.\n",
        "\n",
        "<img src=\"https://github.com/Fortuz/edu_Adaptive/blob/main/practices/assets/Lab08/Pics/L08_HighBias.png?raw=1\" width=\"600\">"
      ]
    },
    {
      "cell_type": "markdown",
      "metadata": {
        "id": "mWeGPGIDi4xD"
      },
      "source": [
        "You can extend your model further and tune the hyperparameters, but be careful not to fall into the trap of over-learning, as in the model below.\n",
        "\n",
        "In our case, we chose too many input parameters and ran the learning that way."
      ]
    },
    {
      "cell_type": "code",
      "execution_count": 30,
      "metadata": {
        "id": "GsVbrGaZi4xD"
      },
      "outputs": [],
      "source": [
        "#Overfit\n",
        "Lambda = 0\n",
        "lr_rate = 0.001\n",
        "epoch = 100\n",
        "order=12\n",
        "optim = optimizers.Adam(lr_rate)"
      ]
    },
    {
      "cell_type": "code",
      "execution_count": 31,
      "metadata": {
        "id": "904he32hi4xD",
        "colab": {
          "base_uri": "https://localhost:8080/"
        },
        "outputId": "d46bbdb2-5a84-4720-fb2f-c24f210c5606"
      },
      "outputs": [
        {
          "output_type": "stream",
          "name": "stderr",
          "text": [
            "<ipython-input-15-28297be10fac>:10: DeprecationWarning: Conversion of an array with ndim > 0 to a scalar is deprecated, and will error in future. Ensure you extract a single element from your array before performing this operation. (Deprecated NumPy 1.25.)\n",
            "  X_poly[i-1,j-1] = X[i-1]**j\n"
          ]
        }
      ],
      "source": [
        "# Train\n",
        "X_train_p = polyFeatures(X_train, order)                                # polynomial features\n",
        "X_train_pn, mu, sigma = featureNormalize(X_train_p)                     # feature normalization\n",
        "\n",
        "# Validation\n",
        "X_val_p = polyFeatures(X_val, order)\n",
        "X_val_pn = (X_val_p-mu)/sigma\n",
        "\n",
        "# Teszt\n",
        "X_test_p = polyFeatures(X_test, order)\n",
        "X_test_pn = (X_test_p-mu)/sigma"
      ]
    },
    {
      "cell_type": "code",
      "execution_count": 32,
      "metadata": {
        "id": "5CcHmjtDi4xD",
        "colab": {
          "base_uri": "https://localhost:8080/"
        },
        "outputId": "ac95637f-4f4e-41d5-b2e7-65f61c3654b4"
      },
      "outputs": [
        {
          "output_type": "stream",
          "name": "stderr",
          "text": [
            "/usr/local/lib/python3.10/dist-packages/keras/src/layers/core/dense.py:87: UserWarning: Do not pass an `input_shape`/`input_dim` argument to a layer. When using Sequential models, prefer using an `Input(shape)` object as the first layer in the model instead.\n",
            "  super().__init__(activity_regularizer=activity_regularizer, **kwargs)\n"
          ]
        }
      ],
      "source": [
        "# Building a linear stack of layers with the sequential model\n",
        "model3 = Sequential()\n",
        "model3.add(Dense(order, input_shape=(order,), use_bias=True, kernel_regularizer=regularizers.l2(Lambda)))\n",
        "model3.add(Dense(1))"
      ]
    },
    {
      "cell_type": "code",
      "execution_count": 35,
      "metadata": {
        "id": "tmZ4AiBzi4xD",
        "colab": {
          "base_uri": "https://localhost:8080/"
        },
        "outputId": "6d38f632-c7e4-49aa-9424-44feabbcd9d4"
      },
      "outputs": [
        {
          "output_type": "stream",
          "name": "stdout",
          "text": [
            "Epoch 1/100\n",
            "1/1 - 1s - 563ms/step - loss: 285.4513 - val_loss: 336.9756\n",
            "Epoch 2/100\n",
            "1/1 - 0s - 300ms/step - loss: 281.3215 - val_loss: 332.2770\n",
            "Epoch 3/100\n",
            "1/1 - 0s - 51ms/step - loss: 277.3734 - val_loss: 327.7405\n",
            "Epoch 4/100\n",
            "1/1 - 0s - 50ms/step - loss: 273.5724 - val_loss: 323.3316\n",
            "Epoch 5/100\n",
            "1/1 - 0s - 58ms/step - loss: 269.8895 - val_loss: 319.0211\n",
            "Epoch 6/100\n",
            "1/1 - 0s - 49ms/step - loss: 266.3004 - val_loss: 314.7838\n",
            "Epoch 7/100\n",
            "1/1 - 0s - 49ms/step - loss: 262.7844 - val_loss: 310.5980\n",
            "Epoch 8/100\n",
            "1/1 - 0s - 55ms/step - loss: 259.3237 - val_loss: 306.4449\n",
            "Epoch 9/100\n",
            "1/1 - 0s - 56ms/step - loss: 255.9030 - val_loss: 302.3081\n",
            "Epoch 10/100\n",
            "1/1 - 0s - 60ms/step - loss: 252.5093 - val_loss: 298.1731\n",
            "Epoch 11/100\n",
            "1/1 - 0s - 53ms/step - loss: 249.1310 - val_loss: 294.0272\n",
            "Epoch 12/100\n",
            "1/1 - 0s - 62ms/step - loss: 245.7582 - val_loss: 289.8589\n",
            "Epoch 13/100\n",
            "1/1 - 0s - 49ms/step - loss: 242.3821 - val_loss: 285.6583\n",
            "Epoch 14/100\n",
            "1/1 - 0s - 52ms/step - loss: 238.9949 - val_loss: 281.4162\n",
            "Epoch 15/100\n",
            "1/1 - 0s - 62ms/step - loss: 235.5899 - val_loss: 277.1246\n",
            "Epoch 16/100\n",
            "1/1 - 0s - 128ms/step - loss: 232.1608 - val_loss: 272.7763\n",
            "Epoch 17/100\n",
            "1/1 - 0s - 58ms/step - loss: 228.7022 - val_loss: 268.3645\n",
            "Epoch 18/100\n",
            "1/1 - 0s - 48ms/step - loss: 225.2091 - val_loss: 263.8835\n",
            "Epoch 19/100\n",
            "1/1 - 0s - 50ms/step - loss: 221.6771 - val_loss: 259.3280\n",
            "Epoch 20/100\n",
            "1/1 - 0s - 56ms/step - loss: 218.1022 - val_loss: 254.6933\n",
            "Epoch 21/100\n",
            "1/1 - 0s - 59ms/step - loss: 214.4807 - val_loss: 249.9752\n",
            "Epoch 22/100\n",
            "1/1 - 0s - 54ms/step - loss: 210.8092 - val_loss: 245.1702\n",
            "Epoch 23/100\n",
            "1/1 - 0s - 57ms/step - loss: 207.0849 - val_loss: 240.2753\n",
            "Epoch 24/100\n",
            "1/1 - 0s - 54ms/step - loss: 203.3050 - val_loss: 235.2879\n",
            "Epoch 25/100\n",
            "1/1 - 0s - 68ms/step - loss: 199.4673 - val_loss: 230.2064\n",
            "Epoch 26/100\n",
            "1/1 - 0s - 124ms/step - loss: 195.5698 - val_loss: 225.0296\n",
            "Epoch 27/100\n",
            "1/1 - 0s - 57ms/step - loss: 191.6109 - val_loss: 219.7570\n",
            "Epoch 28/100\n",
            "1/1 - 0s - 49ms/step - loss: 187.5894 - val_loss: 214.3890\n",
            "Epoch 29/100\n",
            "1/1 - 0s - 50ms/step - loss: 183.5045 - val_loss: 208.9268\n",
            "Epoch 30/100\n",
            "1/1 - 0s - 139ms/step - loss: 179.3560 - val_loss: 203.3725\n",
            "Epoch 31/100\n",
            "1/1 - 0s - 61ms/step - loss: 175.1441 - val_loss: 197.7289\n",
            "Epoch 32/100\n",
            "1/1 - 0s - 56ms/step - loss: 170.8695 - val_loss: 192.0002\n",
            "Epoch 33/100\n",
            "1/1 - 0s - 59ms/step - loss: 166.5338 - val_loss: 186.1913\n",
            "Epoch 34/100\n",
            "1/1 - 0s - 53ms/step - loss: 162.1389 - val_loss: 180.3085\n",
            "Epoch 35/100\n",
            "1/1 - 0s - 59ms/step - loss: 157.6877 - val_loss: 174.3591\n",
            "Epoch 36/100\n",
            "1/1 - 0s - 51ms/step - loss: 153.1837 - val_loss: 168.3516\n",
            "Epoch 37/100\n",
            "1/1 - 0s - 52ms/step - loss: 148.6311 - val_loss: 162.2956\n",
            "Epoch 38/100\n",
            "1/1 - 0s - 57ms/step - loss: 144.0349 - val_loss: 156.2018\n",
            "Epoch 39/100\n",
            "1/1 - 0s - 67ms/step - loss: 139.4010 - val_loss: 150.0824\n",
            "Epoch 40/100\n",
            "1/1 - 0s - 64ms/step - loss: 134.7359 - val_loss: 143.9503\n",
            "Epoch 41/100\n",
            "1/1 - 0s - 53ms/step - loss: 130.0471 - val_loss: 137.8194\n",
            "Epoch 42/100\n",
            "1/1 - 0s - 51ms/step - loss: 125.3427 - val_loss: 131.7047\n",
            "Epoch 43/100\n",
            "1/1 - 0s - 59ms/step - loss: 120.6313 - val_loss: 125.6219\n",
            "Epoch 44/100\n",
            "1/1 - 0s - 60ms/step - loss: 115.9223 - val_loss: 119.5872\n",
            "Epoch 45/100\n",
            "1/1 - 0s - 138ms/step - loss: 111.2258 - val_loss: 113.6173\n",
            "Epoch 46/100\n",
            "1/1 - 0s - 59ms/step - loss: 106.5519 - val_loss: 107.7293\n",
            "Epoch 47/100\n",
            "1/1 - 0s - 51ms/step - loss: 101.9114 - val_loss: 101.9401\n",
            "Epoch 48/100\n",
            "1/1 - 0s - 49ms/step - loss: 97.3152 - val_loss: 96.2666\n",
            "Epoch 49/100\n",
            "1/1 - 0s - 59ms/step - loss: 92.7742 - val_loss: 90.7253\n",
            "Epoch 50/100\n",
            "1/1 - 0s - 58ms/step - loss: 88.2994 - val_loss: 85.3320\n",
            "Epoch 51/100\n",
            "1/1 - 0s - 54ms/step - loss: 83.9014 - val_loss: 80.1019\n",
            "Epoch 52/100\n",
            "1/1 - 0s - 50ms/step - loss: 79.5907 - val_loss: 75.0489\n",
            "Epoch 53/100\n",
            "1/1 - 0s - 65ms/step - loss: 75.3773 - val_loss: 70.1859\n",
            "Epoch 54/100\n",
            "1/1 - 0s - 63ms/step - loss: 71.2706 - val_loss: 65.5244\n",
            "Epoch 55/100\n",
            "1/1 - 0s - 63ms/step - loss: 67.2794 - val_loss: 61.0743\n",
            "Epoch 56/100\n",
            "1/1 - 0s - 47ms/step - loss: 63.4114 - val_loss: 56.8438\n",
            "Epoch 57/100\n",
            "1/1 - 0s - 62ms/step - loss: 59.6738 - val_loss: 52.8396\n",
            "Epoch 58/100\n",
            "1/1 - 0s - 54ms/step - loss: 56.0728 - val_loss: 49.0665\n",
            "Epoch 59/100\n",
            "1/1 - 0s - 56ms/step - loss: 52.6135 - val_loss: 45.5276\n",
            "Epoch 60/100\n",
            "1/1 - 0s - 83ms/step - loss: 49.2999 - val_loss: 42.2241\n",
            "Epoch 61/100\n",
            "1/1 - 0s - 112ms/step - loss: 46.1352 - val_loss: 39.1556\n",
            "Epoch 62/100\n",
            "1/1 - 0s - 56ms/step - loss: 43.1214 - val_loss: 36.3201\n",
            "Epoch 63/100\n",
            "1/1 - 0s - 51ms/step - loss: 40.2595 - val_loss: 33.7138\n",
            "Epoch 64/100\n",
            "1/1 - 0s - 49ms/step - loss: 37.5496 - val_loss: 31.3318\n",
            "Epoch 65/100\n",
            "1/1 - 0s - 51ms/step - loss: 34.9907 - val_loss: 29.1676\n",
            "Epoch 66/100\n",
            "1/1 - 0s - 52ms/step - loss: 32.5811 - val_loss: 27.2138\n",
            "Epoch 67/100\n",
            "1/1 - 0s - 49ms/step - loss: 30.3181 - val_loss: 25.4618\n",
            "Epoch 68/100\n",
            "1/1 - 0s - 51ms/step - loss: 28.1986 - val_loss: 23.9023\n",
            "Epoch 69/100\n",
            "1/1 - 0s - 64ms/step - loss: 26.2185 - val_loss: 22.5254\n",
            "Epoch 70/100\n",
            "1/1 - 0s - 146ms/step - loss: 24.3734 - val_loss: 21.3205\n",
            "Epoch 71/100\n",
            "1/1 - 0s - 134ms/step - loss: 22.6582 - val_loss: 20.2767\n",
            "Epoch 72/100\n",
            "1/1 - 0s - 154ms/step - loss: 21.0678 - val_loss: 19.3831\n",
            "Epoch 73/100\n",
            "1/1 - 0s - 75ms/step - loss: 19.5963 - val_loss: 18.6285\n",
            "Epoch 74/100\n",
            "1/1 - 0s - 68ms/step - loss: 18.2380 - val_loss: 18.0018\n",
            "Epoch 75/100\n",
            "1/1 - 0s - 140ms/step - loss: 16.9869 - val_loss: 17.4921\n",
            "Epoch 76/100\n",
            "1/1 - 0s - 67ms/step - loss: 15.8370 - val_loss: 17.0889\n",
            "Epoch 77/100\n",
            "1/1 - 0s - 71ms/step - loss: 14.7821 - val_loss: 16.7817\n",
            "Epoch 78/100\n",
            "1/1 - 0s - 113ms/step - loss: 13.8164 - val_loss: 16.5609\n",
            "Epoch 79/100\n",
            "1/1 - 0s - 112ms/step - loss: 12.9338 - val_loss: 16.4168\n",
            "Epoch 80/100\n",
            "1/1 - 0s - 137ms/step - loss: 12.1286 - val_loss: 16.3407\n",
            "Epoch 81/100\n",
            "1/1 - 0s - 137ms/step - loss: 11.3953 - val_loss: 16.3242\n",
            "Epoch 82/100\n",
            "1/1 - 0s - 151ms/step - loss: 10.7284 - val_loss: 16.3594\n",
            "Epoch 83/100\n",
            "1/1 - 0s - 146ms/step - loss: 10.1229 - val_loss: 16.4392\n",
            "Epoch 84/100\n",
            "1/1 - 0s - 133ms/step - loss: 9.5739 - val_loss: 16.5568\n",
            "Epoch 85/100\n",
            "1/1 - 0s - 98ms/step - loss: 9.0768 - val_loss: 16.7062\n",
            "Epoch 86/100\n",
            "1/1 - 0s - 76ms/step - loss: 8.6271 - val_loss: 16.8818\n",
            "Epoch 87/100\n",
            "1/1 - 0s - 74ms/step - loss: 8.2209 - val_loss: 17.0786\n",
            "Epoch 88/100\n",
            "1/1 - 0s - 142ms/step - loss: 7.8542 - val_loss: 17.2921\n",
            "Epoch 89/100\n",
            "1/1 - 0s - 75ms/step - loss: 7.5235 - val_loss: 17.5181\n",
            "Epoch 90/100\n",
            "1/1 - 0s - 80ms/step - loss: 7.2256 - val_loss: 17.7531\n",
            "Epoch 91/100\n",
            "1/1 - 0s - 127ms/step - loss: 6.9573 - val_loss: 17.9940\n",
            "Epoch 92/100\n",
            "1/1 - 0s - 141ms/step - loss: 6.7159 - val_loss: 18.2380\n",
            "Epoch 93/100\n",
            "1/1 - 0s - 80ms/step - loss: 6.4987 - val_loss: 18.4826\n",
            "Epoch 94/100\n",
            "1/1 - 0s - 73ms/step - loss: 6.3035 - val_loss: 18.7257\n",
            "Epoch 95/100\n",
            "1/1 - 0s - 129ms/step - loss: 6.1280 - val_loss: 18.9657\n",
            "Epoch 96/100\n",
            "1/1 - 0s - 52ms/step - loss: 5.9702 - val_loss: 19.2009\n",
            "Epoch 97/100\n",
            "1/1 - 0s - 58ms/step - loss: 5.8284 - val_loss: 19.4301\n",
            "Epoch 98/100\n",
            "1/1 - 0s - 58ms/step - loss: 5.7009 - val_loss: 19.6524\n",
            "Epoch 99/100\n",
            "1/1 - 0s - 49ms/step - loss: 5.5863 - val_loss: 19.8668\n",
            "Epoch 100/100\n",
            "1/1 - 0s - 58ms/step - loss: 5.4832 - val_loss: 20.0728\n"
          ]
        }
      ],
      "source": [
        "# compiling the sequential model\n",
        "optim = optimizers.SGD(lr_rate)\n",
        "model3.compile(loss='MSE', optimizer=optim)\n",
        "\n",
        "# training the model and saving metrics in history\n",
        "history3 = model3.fit(X_train_pn, Y_train, epochs=epoch, validation_data=(X_val_pn, Y_val), verbose = 2)"
      ]
    },
    {
      "cell_type": "code",
      "execution_count": 36,
      "metadata": {
        "id": "B5UFTQ6xi4xD",
        "colab": {
          "base_uri": "https://localhost:8080/"
        },
        "outputId": "caa14cd8-8410-403a-9116-6379384ac71a"
      },
      "outputs": [
        {
          "output_type": "stream",
          "name": "stdout",
          "text": [
            "\u001b[1m1/1\u001b[0m \u001b[32m━━━━━━━━━━━━━━━━━━━━\u001b[0m\u001b[37m\u001b[0m \u001b[1m0s\u001b[0m 47ms/step\n"
          ]
        }
      ],
      "source": [
        "Y_pred3 = model3.predict(X_test_pn)"
      ]
    },
    {
      "cell_type": "code",
      "execution_count": 37,
      "metadata": {
        "id": "hbFGjYlRi4xD",
        "colab": {
          "base_uri": "https://localhost:8080/",
          "height": 472
        },
        "outputId": "c31ae630-e171-4a02-be33-2d879c142373"
      },
      "outputs": [
        {
          "output_type": "display_data",
          "data": {
            "text/plain": [
              "<Figure size 640x480 with 1 Axes>"
            ],
            "image/png": "[encoded data removed]"
          },
          "metadata": {}
        }
      ],
      "source": [
        "plt.plot(X_test,Y_pred3,'x', color=\"red\")\n",
        "plt.plot(X_test,Y_test,'x', color=\"green\")\n",
        "plt.title('Training data')\n",
        "plt.xlabel('Change in water level (X)')\n",
        "plt.ylabel('Water floeing out of the dam (Y)')\n",
        "plt.legend(['Prediction', 'Test'])\n",
        "plt.show()"
      ]
    },
    {
      "cell_type": "code",
      "execution_count": 38,
      "metadata": {
        "id": "AlArGka3i4xD",
        "colab": {
          "base_uri": "https://localhost:8080/",
          "height": 489
        },
        "outputId": "8c43e4c3-a47f-4875-d545-abd9abc41e4a"
      },
      "outputs": [
        {
          "output_type": "execute_result",
          "data": {
            "text/plain": [
              "<matplotlib.legend.Legend at 0x7a65a3364ac0>"
            ]
          },
          "metadata": {},
          "execution_count": 38
        },
        {
          "output_type": "display_data",
          "data": {
            "text/plain": [
              "<Figure size 640x480 with 1 Axes>"
            ],
            "image/png": "[encoded data removed]"
          },
          "metadata": {}
        }
      ],
      "source": [
        "# plotting the metrics\n",
        "fig = plt.figure()\n",
        "plt.plot(history3.history['loss'])\n",
        "plt.plot(history3.history['val_loss'])\n",
        "plt.title('Loss functions')\n",
        "plt.ylabel('loss')\n",
        "plt.xlabel('epoch')\n",
        "plt.legend(['Train loss', 'Validation loss'])"
      ]
    },
    {
      "cell_type": "markdown",
      "metadata": {
        "id": "Z6HsHmcNi4xE"
      },
      "source": [
        "It can be seen that the model learns too much on the training samples and after the 60th epoch the cost function of the training samples continues to decrease, but the result on the validation samples starts to deteriorate. This means that although the cost function of the training samples performs well below an expected level, the cost function of the validation and test samples will be well above the expected result. The \"scissors are open\", there will be a large gap between the two cost functions.\n",
        "\n",
        "<img src=\"https://github.com/Fortuz/edu_Adaptive/blob/main/practices/assets/Lab08/Pics/L08_HighVariance.png?raw=1\" width=\"600\">"
      ]
    },
    {
      "cell_type": "markdown",
      "metadata": {
        "id": "kDATGLMSi4xE"
      },
      "source": [
        "### 5: Summary and Tips\n",
        "\n",
        "Underfitting (High Bias problem):\n",
        "- Adding more input parameters to the model (either independent or polynomial).\n",
        "- $\\lambda$ parameter reduction, i.e. less penalization.\n",
        "- Increase the epoch number.\n",
        "- Increase $\\alpha$ (learning rate).\n",
        "\n",
        "Overfitting (High Variance problem):\n",
        "- Less input parameter.\n",
        "- Increase the $\\lambda$ parameter, i.e. we penalize more.\n",
        "- More learning samples.\n",
        "- Reducing $\\alpha$ (learning rate)."
      ]
    },
    {
      "cell_type": "markdown",
      "metadata": {
        "id": "q800pjR0i4xE"
      },
      "source": [
        "<div style=\"text-align: right\">This lab exercise uses elements from Andrew Ng's Machine Learning course.</div>"
      ]
    }
  ],
  "metadata": {
    "kernelspec": {
      "display_name": "Python 3",
      "language": "python",
      "name": "python3"
    },
    "language_info": {
      "codemirror_mode": {
        "name": "ipython",
        "version": 3
      },
      "file_extension": ".py",
      "mimetype": "text/x-python",
      "name": "python",
      "nbconvert_exporter": "python",
      "pygments_lexer": "ipython3",
      "version": "3.7.7"
    },
    "colab": {
      "provenance": [],
      "include_colab_link": true
    }
  },
  "nbformat": 4,
  "nbformat_minor": 0
}